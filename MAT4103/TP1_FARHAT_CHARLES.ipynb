{
 "cells": [
  {
   "cell_type": "markdown",
   "metadata": {},
   "source": [
    "# TP de statistique inférentielle\n",
    "> #### A propos de jupyter notebook.\n",
    "C'est un espace qui permet de mélanger du texte (même latex), code etc. \n",
    "Pour executer une cellule tapez Enter. Pour inserer une nouvelle cellule à un endroit, ou changer le type d'une cellule existante vous pouvez utiliser le menu en haut.\n",
    "Par exemple ceci est une cellule dite \"Markdown\" pour du texte.\n",
    "En bas vous allez voir des celules type \"code\" ou on peut executer du code (Python3 ici).\n",
    "On encourage à se documenter sur internet (https://jupyter-notebook.readthedocs.io/en/stable/ site officiel par exemple) ou un grand nombre de tutoriels et réponses aux questions sont présents.\n",
    "\n",
    " #### A propos des différents modules utilisés. \n",
    " \n",
    "On encourage fortement à se documenter sur internet pour des questions plus poussées (ou pas)\n",
    "    \n",
    "> **pandas**: est un module qui permet d'analyser et de manipuler les données. On verra en particulier l'objet dataframe qui permet de manipuler des tables de données.\n",
    " \n",
    ">**matplotlib.pyplot**: est un module permettant d'afficher des graphiques.\n",
    "    seaborn: un module qui permet de visualiser les données. Souvent, quand on sait le manipuler, ça donne des résultats \"plus beaux\" que matplotlib.pyplot\n",
    "\n",
    ">**numpy**: Un package de calcul scientifique\n",
    "\n",
    ">**scipy.stats**: Un module qui contient un grand nombre d'outils statistiques: distribution, fonction de répartition, tests etc.\n",
    "\n",
    "#### Consignes.\n",
    ">   \n",
    "Répondre à chaque question dans les cellules que vous créerez après la question correspondante.\n",
    "La note prendra compte de la présentation et de la clareté des réponses.\n",
    " \n",
    ">Envoyez le tp sur le mail\n",
    "sholom.schechtman@telecom-sudparis.eu. Avec comme sujet: **TP1_NOM_PRENOM**. C'est **important** pour que votre tp ne se perde pas et soit **noté**."
   ]
  },
  {
   "cell_type": "markdown",
   "metadata": {},
   "source": [
    "**On importe les packages nécessaires**"
   ]
  },
  {
   "cell_type": "code",
   "execution_count": 1,
   "metadata": {},
   "outputs": [],
   "source": [
    "import pandas as pd\n",
    "import matplotlib.pyplot as plt\n",
    "import numpy as np\n",
    "import scipy.stats as stat\n",
    "import seaborn as sns\n",
    "%matplotlib inline"
   ]
  },
  {
   "cell_type": "markdown",
   "metadata": {},
   "source": [
    "# Exercice 1. pandas et manipulations de données"
   ]
  },
  {
   "cell_type": "markdown",
   "metadata": {},
   "source": [
    "> ### 1. \n",
    "Créez un dictionnaire, representant nos données: `data = {\"nom\": [\"tutu\", \"toto\", \"titi\"],\n",
    "       \"sexe\": [\"M\", \"M\", \"F\"],\n",
    "       \"taille\": [1.56, 1.82, 1.70], \n",
    "       'naissance\": [\"11/12/82\", \"21/12/82\", \"25/12/83\"]}`\n",
    "       \n",
    "> Utilisez la commande `df = pd.DataFrame(data)` pour importer les données dans un Dataframe de nom df\n"
   ]
  },
  {
   "cell_type": "code",
   "execution_count": 3,
   "metadata": {},
   "outputs": [],
   "source": [
    "data = {\"nom\": [\"tutu\", \"toto\", \"titi\"],\n",
    "       \"sexe\": [\"M\", \"M\", \"F\"],\n",
    "       \"taille\": [1.56, 1.82, 1.70], \n",
    "       \"naissance\": [\"11/12/82\", \"21/12/82\", \"25/12/83\"]}\n",
    "\n",
    "# On créé le dataframe à partir du data\n",
    "df = pd.DataFrame(data)"
   ]
  },
  {
   "cell_type": "markdown",
   "metadata": {},
   "source": [
    "> ### 2. \n",
    "Testez et décrivez le fonctionnement des commandes `df.head()`, `df.head(0)`, `df.head(1)`, `df.head(2)`. "
   ]
  },
  {
   "cell_type": "code",
   "execution_count": 5,
   "metadata": {},
   "outputs": [
    {
     "data": {
      "text/html": [
       "<div>\n",
       "<style scoped>\n",
       "    .dataframe tbody tr th:only-of-type {\n",
       "        vertical-align: middle;\n",
       "    }\n",
       "\n",
       "    .dataframe tbody tr th {\n",
       "        vertical-align: top;\n",
       "    }\n",
       "\n",
       "    .dataframe thead th {\n",
       "        text-align: right;\n",
       "    }\n",
       "</style>\n",
       "<table border=\"1\" class=\"dataframe\">\n",
       "  <thead>\n",
       "    <tr style=\"text-align: right;\">\n",
       "      <th></th>\n",
       "      <th>nom</th>\n",
       "      <th>sexe</th>\n",
       "      <th>taille</th>\n",
       "      <th>naissance</th>\n",
       "    </tr>\n",
       "  </thead>\n",
       "  <tbody>\n",
       "    <tr>\n",
       "      <th>0</th>\n",
       "      <td>tutu</td>\n",
       "      <td>M</td>\n",
       "      <td>1.56</td>\n",
       "      <td>11/12/82</td>\n",
       "    </tr>\n",
       "    <tr>\n",
       "      <th>1</th>\n",
       "      <td>toto</td>\n",
       "      <td>M</td>\n",
       "      <td>1.82</td>\n",
       "      <td>21/12/82</td>\n",
       "    </tr>\n",
       "    <tr>\n",
       "      <th>2</th>\n",
       "      <td>titi</td>\n",
       "      <td>F</td>\n",
       "      <td>1.70</td>\n",
       "      <td>25/12/83</td>\n",
       "    </tr>\n",
       "  </tbody>\n",
       "</table>\n",
       "</div>"
      ],
      "text/plain": [
       "    nom sexe  taille naissance\n",
       "0  tutu    M    1.56  11/12/82\n",
       "1  toto    M    1.82  21/12/82\n",
       "2  titi    F    1.70  25/12/83"
      ]
     },
     "execution_count": 5,
     "metadata": {},
     "output_type": "execute_result"
    }
   ],
   "source": [
    "df.head()"
   ]
  },
  {
   "cell_type": "code",
   "execution_count": 7,
   "metadata": {},
   "outputs": [
    {
     "data": {
      "text/html": [
       "<div>\n",
       "<style scoped>\n",
       "    .dataframe tbody tr th:only-of-type {\n",
       "        vertical-align: middle;\n",
       "    }\n",
       "\n",
       "    .dataframe tbody tr th {\n",
       "        vertical-align: top;\n",
       "    }\n",
       "\n",
       "    .dataframe thead th {\n",
       "        text-align: right;\n",
       "    }\n",
       "</style>\n",
       "<table border=\"1\" class=\"dataframe\">\n",
       "  <thead>\n",
       "    <tr style=\"text-align: right;\">\n",
       "      <th></th>\n",
       "      <th>nom</th>\n",
       "      <th>sexe</th>\n",
       "      <th>taille</th>\n",
       "      <th>naissance</th>\n",
       "    </tr>\n",
       "  </thead>\n",
       "  <tbody>\n",
       "  </tbody>\n",
       "</table>\n",
       "</div>"
      ],
      "text/plain": [
       "Empty DataFrame\n",
       "Columns: [nom, sexe, taille, naissance]\n",
       "Index: []"
      ]
     },
     "execution_count": 7,
     "metadata": {},
     "output_type": "execute_result"
    }
   ],
   "source": [
    "df.head(0)"
   ]
  },
  {
   "cell_type": "code",
   "execution_count": 8,
   "metadata": {},
   "outputs": [
    {
     "data": {
      "text/html": [
       "<div>\n",
       "<style scoped>\n",
       "    .dataframe tbody tr th:only-of-type {\n",
       "        vertical-align: middle;\n",
       "    }\n",
       "\n",
       "    .dataframe tbody tr th {\n",
       "        vertical-align: top;\n",
       "    }\n",
       "\n",
       "    .dataframe thead th {\n",
       "        text-align: right;\n",
       "    }\n",
       "</style>\n",
       "<table border=\"1\" class=\"dataframe\">\n",
       "  <thead>\n",
       "    <tr style=\"text-align: right;\">\n",
       "      <th></th>\n",
       "      <th>nom</th>\n",
       "      <th>sexe</th>\n",
       "      <th>taille</th>\n",
       "      <th>naissance</th>\n",
       "    </tr>\n",
       "  </thead>\n",
       "  <tbody>\n",
       "    <tr>\n",
       "      <th>0</th>\n",
       "      <td>tutu</td>\n",
       "      <td>M</td>\n",
       "      <td>1.56</td>\n",
       "      <td>11/12/82</td>\n",
       "    </tr>\n",
       "  </tbody>\n",
       "</table>\n",
       "</div>"
      ],
      "text/plain": [
       "    nom sexe  taille naissance\n",
       "0  tutu    M    1.56  11/12/82"
      ]
     },
     "execution_count": 8,
     "metadata": {},
     "output_type": "execute_result"
    }
   ],
   "source": [
    "df.head(1)"
   ]
  },
  {
   "cell_type": "code",
   "execution_count": 9,
   "metadata": {},
   "outputs": [
    {
     "data": {
      "text/html": [
       "<div>\n",
       "<style scoped>\n",
       "    .dataframe tbody tr th:only-of-type {\n",
       "        vertical-align: middle;\n",
       "    }\n",
       "\n",
       "    .dataframe tbody tr th {\n",
       "        vertical-align: top;\n",
       "    }\n",
       "\n",
       "    .dataframe thead th {\n",
       "        text-align: right;\n",
       "    }\n",
       "</style>\n",
       "<table border=\"1\" class=\"dataframe\">\n",
       "  <thead>\n",
       "    <tr style=\"text-align: right;\">\n",
       "      <th></th>\n",
       "      <th>nom</th>\n",
       "      <th>sexe</th>\n",
       "      <th>taille</th>\n",
       "      <th>naissance</th>\n",
       "    </tr>\n",
       "  </thead>\n",
       "  <tbody>\n",
       "    <tr>\n",
       "      <th>0</th>\n",
       "      <td>tutu</td>\n",
       "      <td>M</td>\n",
       "      <td>1.56</td>\n",
       "      <td>11/12/82</td>\n",
       "    </tr>\n",
       "    <tr>\n",
       "      <th>1</th>\n",
       "      <td>toto</td>\n",
       "      <td>M</td>\n",
       "      <td>1.82</td>\n",
       "      <td>21/12/82</td>\n",
       "    </tr>\n",
       "  </tbody>\n",
       "</table>\n",
       "</div>"
      ],
      "text/plain": [
       "    nom sexe  taille naissance\n",
       "0  tutu    M    1.56  11/12/82\n",
       "1  toto    M    1.82  21/12/82"
      ]
     },
     "execution_count": 9,
     "metadata": {},
     "output_type": "execute_result"
    }
   ],
   "source": [
    "df.head(2)"
   ]
  },
  {
   "attachments": {},
   "cell_type": "markdown",
   "metadata": {},
   "source": [
    "### Analyse\n",
    "\n",
    "A partir de nos test on peut en déduire que :\n",
    "\n",
    "- `df.head()` : affiche les premières lignes du tableau (d'après la doc, par défaut les 5 premières)\n",
    "- `df.head(n=0)` : affiche la \"première\" ligne, en fait, le nom des colones\n",
    "- `df.head(n=1)` : affiche la première ligne de data\n",
    "- `df.head(n=2)` : affiche les deux premières ligne de data\n"
   ]
  },
  {
   "cell_type": "markdown",
   "metadata": {},
   "source": [
    "> ### 3. \n",
    "Qu'est ce qui se passe si on remplace head par tail dans la question précédente? \n"
   ]
  },
  {
   "cell_type": "code",
   "execution_count": 13,
   "metadata": {},
   "outputs": [
    {
     "data": {
      "text/html": [
       "<div>\n",
       "<style scoped>\n",
       "    .dataframe tbody tr th:only-of-type {\n",
       "        vertical-align: middle;\n",
       "    }\n",
       "\n",
       "    .dataframe tbody tr th {\n",
       "        vertical-align: top;\n",
       "    }\n",
       "\n",
       "    .dataframe thead th {\n",
       "        text-align: right;\n",
       "    }\n",
       "</style>\n",
       "<table border=\"1\" class=\"dataframe\">\n",
       "  <thead>\n",
       "    <tr style=\"text-align: right;\">\n",
       "      <th></th>\n",
       "      <th>nom</th>\n",
       "      <th>sexe</th>\n",
       "      <th>taille</th>\n",
       "      <th>naissance</th>\n",
       "    </tr>\n",
       "  </thead>\n",
       "  <tbody>\n",
       "    <tr>\n",
       "      <th>2</th>\n",
       "      <td>titi</td>\n",
       "      <td>F</td>\n",
       "      <td>1.7</td>\n",
       "      <td>25/12/83</td>\n",
       "    </tr>\n",
       "  </tbody>\n",
       "</table>\n",
       "</div>"
      ],
      "text/plain": [
       "    nom sexe  taille naissance\n",
       "2  titi    F     1.7  25/12/83"
      ]
     },
     "execution_count": 13,
     "metadata": {},
     "output_type": "execute_result"
    }
   ],
   "source": [
    "df.tail(n=1)"
   ]
  },
  {
   "attachments": {},
   "cell_type": "markdown",
   "metadata": {},
   "source": [
    "### Analyse\n",
    "\n",
    "On obtient le même comportement mais au lieu de commencer par le début du tableau on commence par la fin, on affichera donc la dernière ligne, les deux dernières... etc, n=x on affiche x lignes en partant de la fin."
   ]
  },
  {
   "cell_type": "markdown",
   "metadata": {},
   "source": [
    "> ### 4.\n",
    "Décrivez le fonctionnement de la commande `df.sort_values`: prenez un argument \"taille\" et testez deux valeurs `ascending= True` et `ascending = False`"
   ]
  },
  {
   "cell_type": "code",
   "execution_count": 14,
   "metadata": {},
   "outputs": [
    {
     "data": {
      "text/html": [
       "<div>\n",
       "<style scoped>\n",
       "    .dataframe tbody tr th:only-of-type {\n",
       "        vertical-align: middle;\n",
       "    }\n",
       "\n",
       "    .dataframe tbody tr th {\n",
       "        vertical-align: top;\n",
       "    }\n",
       "\n",
       "    .dataframe thead th {\n",
       "        text-align: right;\n",
       "    }\n",
       "</style>\n",
       "<table border=\"1\" class=\"dataframe\">\n",
       "  <thead>\n",
       "    <tr style=\"text-align: right;\">\n",
       "      <th></th>\n",
       "      <th>nom</th>\n",
       "      <th>sexe</th>\n",
       "      <th>taille</th>\n",
       "      <th>naissance</th>\n",
       "    </tr>\n",
       "  </thead>\n",
       "  <tbody>\n",
       "    <tr>\n",
       "      <th>0</th>\n",
       "      <td>tutu</td>\n",
       "      <td>M</td>\n",
       "      <td>1.56</td>\n",
       "      <td>11/12/82</td>\n",
       "    </tr>\n",
       "    <tr>\n",
       "      <th>2</th>\n",
       "      <td>titi</td>\n",
       "      <td>F</td>\n",
       "      <td>1.70</td>\n",
       "      <td>25/12/83</td>\n",
       "    </tr>\n",
       "    <tr>\n",
       "      <th>1</th>\n",
       "      <td>toto</td>\n",
       "      <td>M</td>\n",
       "      <td>1.82</td>\n",
       "      <td>21/12/82</td>\n",
       "    </tr>\n",
       "  </tbody>\n",
       "</table>\n",
       "</div>"
      ],
      "text/plain": [
       "    nom sexe  taille naissance\n",
       "0  tutu    M    1.56  11/12/82\n",
       "2  titi    F    1.70  25/12/83\n",
       "1  toto    M    1.82  21/12/82"
      ]
     },
     "execution_count": 14,
     "metadata": {},
     "output_type": "execute_result"
    }
   ],
   "source": [
    "df.sort_values(\"taille\", ascending=True)"
   ]
  },
  {
   "cell_type": "code",
   "execution_count": 15,
   "metadata": {},
   "outputs": [
    {
     "data": {
      "text/html": [
       "<div>\n",
       "<style scoped>\n",
       "    .dataframe tbody tr th:only-of-type {\n",
       "        vertical-align: middle;\n",
       "    }\n",
       "\n",
       "    .dataframe tbody tr th {\n",
       "        vertical-align: top;\n",
       "    }\n",
       "\n",
       "    .dataframe thead th {\n",
       "        text-align: right;\n",
       "    }\n",
       "</style>\n",
       "<table border=\"1\" class=\"dataframe\">\n",
       "  <thead>\n",
       "    <tr style=\"text-align: right;\">\n",
       "      <th></th>\n",
       "      <th>nom</th>\n",
       "      <th>sexe</th>\n",
       "      <th>taille</th>\n",
       "      <th>naissance</th>\n",
       "    </tr>\n",
       "  </thead>\n",
       "  <tbody>\n",
       "    <tr>\n",
       "      <th>1</th>\n",
       "      <td>toto</td>\n",
       "      <td>M</td>\n",
       "      <td>1.82</td>\n",
       "      <td>21/12/82</td>\n",
       "    </tr>\n",
       "    <tr>\n",
       "      <th>2</th>\n",
       "      <td>titi</td>\n",
       "      <td>F</td>\n",
       "      <td>1.70</td>\n",
       "      <td>25/12/83</td>\n",
       "    </tr>\n",
       "    <tr>\n",
       "      <th>0</th>\n",
       "      <td>tutu</td>\n",
       "      <td>M</td>\n",
       "      <td>1.56</td>\n",
       "      <td>11/12/82</td>\n",
       "    </tr>\n",
       "  </tbody>\n",
       "</table>\n",
       "</div>"
      ],
      "text/plain": [
       "    nom sexe  taille naissance\n",
       "1  toto    M    1.82  21/12/82\n",
       "2  titi    F    1.70  25/12/83\n",
       "0  tutu    M    1.56  11/12/82"
      ]
     },
     "execution_count": 15,
     "metadata": {},
     "output_type": "execute_result"
    }
   ],
   "source": [
    "df.sort_values(\"taille\", ascending=False)"
   ]
  },
  {
   "attachments": {},
   "cell_type": "markdown",
   "metadata": {},
   "source": [
    "### Analyse\n",
    "\n",
    "On classe dans l'odre croissant vers le bas (`ascending=True`) selon la colone `taille` ou dans l'odre décroissant vers le bas (`ascending=False`) selon la colone `taille`"
   ]
  },
  {
   "cell_type": "markdown",
   "metadata": {},
   "source": [
    "\n",
    "\n",
    "> ### 5.\n",
    "    \n",
    "> Testez et décrivez la commande `df[\"var\"] = [1 if x > 1.6 else 0 for x in df[\"taille\"]`?"
   ]
  },
  {
   "cell_type": "code",
   "execution_count": 16,
   "metadata": {},
   "outputs": [],
   "source": [
    "df[\"var\"] = [1 if x > 1.6 else 0 for x in df[\"taille\"]]"
   ]
  },
  {
   "cell_type": "code",
   "execution_count": 17,
   "metadata": {},
   "outputs": [
    {
     "data": {
      "text/html": [
       "<div>\n",
       "<style scoped>\n",
       "    .dataframe tbody tr th:only-of-type {\n",
       "        vertical-align: middle;\n",
       "    }\n",
       "\n",
       "    .dataframe tbody tr th {\n",
       "        vertical-align: top;\n",
       "    }\n",
       "\n",
       "    .dataframe thead th {\n",
       "        text-align: right;\n",
       "    }\n",
       "</style>\n",
       "<table border=\"1\" class=\"dataframe\">\n",
       "  <thead>\n",
       "    <tr style=\"text-align: right;\">\n",
       "      <th></th>\n",
       "      <th>nom</th>\n",
       "      <th>sexe</th>\n",
       "      <th>taille</th>\n",
       "      <th>naissance</th>\n",
       "      <th>var</th>\n",
       "    </tr>\n",
       "  </thead>\n",
       "  <tbody>\n",
       "    <tr>\n",
       "      <th>0</th>\n",
       "      <td>tutu</td>\n",
       "      <td>M</td>\n",
       "      <td>1.56</td>\n",
       "      <td>11/12/82</td>\n",
       "      <td>0</td>\n",
       "    </tr>\n",
       "    <tr>\n",
       "      <th>1</th>\n",
       "      <td>toto</td>\n",
       "      <td>M</td>\n",
       "      <td>1.82</td>\n",
       "      <td>21/12/82</td>\n",
       "      <td>1</td>\n",
       "    </tr>\n",
       "    <tr>\n",
       "      <th>2</th>\n",
       "      <td>titi</td>\n",
       "      <td>F</td>\n",
       "      <td>1.70</td>\n",
       "      <td>25/12/83</td>\n",
       "      <td>1</td>\n",
       "    </tr>\n",
       "  </tbody>\n",
       "</table>\n",
       "</div>"
      ],
      "text/plain": [
       "    nom sexe  taille naissance  var\n",
       "0  tutu    M    1.56  11/12/82    0\n",
       "1  toto    M    1.82  21/12/82    1\n",
       "2  titi    F    1.70  25/12/83    1"
      ]
     },
     "execution_count": 17,
     "metadata": {},
     "output_type": "execute_result"
    }
   ],
   "source": [
    "df"
   ]
  },
  {
   "attachments": {},
   "cell_type": "markdown",
   "metadata": {},
   "source": [
    "### Analyse\n",
    "\n",
    "Avec cette commande on créer une nouvelle colone `var` qui va être initialisé avec une colone de 1 ou 0 en fonction de la valeur dans la colone taille (1 si taille > 1.6 et 0 sinon)"
   ]
  },
  {
   "cell_type": "markdown",
   "metadata": {},
   "source": [
    ">### 6. \n",
    "Supprimez la colonne \"var\" avec la commande `df.drop` (voir documentation et mettez axis=1 en argument)"
   ]
  },
  {
   "cell_type": "code",
   "execution_count": 19,
   "metadata": {},
   "outputs": [],
   "source": [
    "df = df.drop(columns=[\"var\"], axis=1)"
   ]
  },
  {
   "cell_type": "markdown",
   "metadata": {},
   "source": [
    ">### 7.   \n",
    "Testez la commande `df.loc[df[\"sexe\"] == \"M\"]`.\n",
    "Testez la commande `df.loc[df[\"sexe\"] == \"M\", \"taille\"]`."
   ]
  },
  {
   "cell_type": "code",
   "execution_count": 21,
   "metadata": {},
   "outputs": [
    {
     "data": {
      "text/html": [
       "<div>\n",
       "<style scoped>\n",
       "    .dataframe tbody tr th:only-of-type {\n",
       "        vertical-align: middle;\n",
       "    }\n",
       "\n",
       "    .dataframe tbody tr th {\n",
       "        vertical-align: top;\n",
       "    }\n",
       "\n",
       "    .dataframe thead th {\n",
       "        text-align: right;\n",
       "    }\n",
       "</style>\n",
       "<table border=\"1\" class=\"dataframe\">\n",
       "  <thead>\n",
       "    <tr style=\"text-align: right;\">\n",
       "      <th></th>\n",
       "      <th>nom</th>\n",
       "      <th>sexe</th>\n",
       "      <th>taille</th>\n",
       "      <th>naissance</th>\n",
       "    </tr>\n",
       "  </thead>\n",
       "  <tbody>\n",
       "    <tr>\n",
       "      <th>0</th>\n",
       "      <td>tutu</td>\n",
       "      <td>M</td>\n",
       "      <td>1.56</td>\n",
       "      <td>11/12/82</td>\n",
       "    </tr>\n",
       "    <tr>\n",
       "      <th>1</th>\n",
       "      <td>toto</td>\n",
       "      <td>M</td>\n",
       "      <td>1.82</td>\n",
       "      <td>21/12/82</td>\n",
       "    </tr>\n",
       "  </tbody>\n",
       "</table>\n",
       "</div>"
      ],
      "text/plain": [
       "    nom sexe  taille naissance\n",
       "0  tutu    M    1.56  11/12/82\n",
       "1  toto    M    1.82  21/12/82"
      ]
     },
     "execution_count": 21,
     "metadata": {},
     "output_type": "execute_result"
    }
   ],
   "source": [
    "df.loc[df[\"sexe\"] == \"M\"]"
   ]
  },
  {
   "cell_type": "code",
   "execution_count": 24,
   "metadata": {},
   "outputs": [
    {
     "data": {
      "text/plain": [
       "0    1.56\n",
       "1    1.82\n",
       "Name: taille, dtype: float64"
      ]
     },
     "execution_count": 24,
     "metadata": {},
     "output_type": "execute_result"
    }
   ],
   "source": [
    "df.loc[df[\"sexe\"] == \"M\", \"taille\"]"
   ]
  },
  {
   "attachments": {},
   "cell_type": "markdown",
   "metadata": {},
   "source": [
    ">### 7.\n",
    "\n",
    "\n",
    "On suppose que le poids d'un homme est poids = (tailleencm)/2 - 10\n",
    "et le poids d'une femme est poids = (tailleencm)/2 - 15\n",
    "\n",
    ">A l'aide des questions précédentes completez la colonne poids."
   ]
  },
  {
   "cell_type": "code",
   "execution_count": 44,
   "metadata": {},
   "outputs": [],
   "source": [
    "df[\"poids\"] = 0.0\n",
    "df.loc[df[\"sexe\"] == \"M\", \"poids\"] = df.loc[df[\"sexe\"] == \"M\", \"taille\"]*100 / 2 - 10\n",
    "df.loc[df[\"sexe\"] == \"F\", \"poids\"] = df.loc[df[\"sexe\"] == \"F\", \"taille\"]*100 / 2 - 15"
   ]
  },
  {
   "cell_type": "code",
   "execution_count": 45,
   "metadata": {},
   "outputs": [
    {
     "data": {
      "text/html": [
       "<div>\n",
       "<style scoped>\n",
       "    .dataframe tbody tr th:only-of-type {\n",
       "        vertical-align: middle;\n",
       "    }\n",
       "\n",
       "    .dataframe tbody tr th {\n",
       "        vertical-align: top;\n",
       "    }\n",
       "\n",
       "    .dataframe thead th {\n",
       "        text-align: right;\n",
       "    }\n",
       "</style>\n",
       "<table border=\"1\" class=\"dataframe\">\n",
       "  <thead>\n",
       "    <tr style=\"text-align: right;\">\n",
       "      <th></th>\n",
       "      <th>nom</th>\n",
       "      <th>sexe</th>\n",
       "      <th>taille</th>\n",
       "      <th>naissance</th>\n",
       "      <th>poids</th>\n",
       "    </tr>\n",
       "  </thead>\n",
       "  <tbody>\n",
       "    <tr>\n",
       "      <th>0</th>\n",
       "      <td>tutu</td>\n",
       "      <td>M</td>\n",
       "      <td>1.56</td>\n",
       "      <td>11/12/82</td>\n",
       "      <td>68.0</td>\n",
       "    </tr>\n",
       "    <tr>\n",
       "      <th>1</th>\n",
       "      <td>toto</td>\n",
       "      <td>M</td>\n",
       "      <td>1.82</td>\n",
       "      <td>21/12/82</td>\n",
       "      <td>81.0</td>\n",
       "    </tr>\n",
       "    <tr>\n",
       "      <th>2</th>\n",
       "      <td>titi</td>\n",
       "      <td>F</td>\n",
       "      <td>1.70</td>\n",
       "      <td>25/12/83</td>\n",
       "      <td>70.0</td>\n",
       "    </tr>\n",
       "  </tbody>\n",
       "</table>\n",
       "</div>"
      ],
      "text/plain": [
       "    nom sexe  taille naissance  poids\n",
       "0  tutu    M    1.56  11/12/82   68.0\n",
       "1  toto    M    1.82  21/12/82   81.0\n",
       "2  titi    F    1.70  25/12/83   70.0"
      ]
     },
     "execution_count": 45,
     "metadata": {},
     "output_type": "execute_result"
    }
   ],
   "source": [
    "df"
   ]
  },
  {
   "cell_type": "markdown",
   "metadata": {},
   "source": [
    "> ### 6. \n",
    "Que fait la commande `df[\"taille\"].mean()`?\n",
    "Faites apparaître le poids moyen des données"
   ]
  },
  {
   "cell_type": "code",
   "execution_count": 46,
   "metadata": {},
   "outputs": [
    {
     "data": {
      "text/plain": [
       "1.6933333333333334"
      ]
     },
     "execution_count": 46,
     "metadata": {},
     "output_type": "execute_result"
    }
   ],
   "source": [
    "df[\"taille\"].mean()"
   ]
  },
  {
   "attachments": {},
   "cell_type": "markdown",
   "metadata": {},
   "source": [
    "La commande `df[\"taille\"].mean()` donne la moyenne de la colone"
   ]
  },
  {
   "cell_type": "code",
   "execution_count": 49,
   "metadata": {},
   "outputs": [
    {
     "data": {
      "text/plain": [
       "taille     1.693333\n",
       "poids     73.000000\n",
       "dtype: float64"
      ]
     },
     "execution_count": 49,
     "metadata": {},
     "output_type": "execute_result"
    }
   ],
   "source": [
    "df.mean(numeric_only=True)\n",
    "# Attention, comme on ne peut faire la moyenne que des colones numérique, on ne considère pas les autres avec numeric_only=True"
   ]
  },
  {
   "cell_type": "markdown",
   "metadata": {},
   "source": [
    "> ### 7. \n",
    "Que fait la commande `df.loc[df[\"sexe\"]==\"M\"]`?\n",
    "Faites apparaître le poids moyen des hommes"
   ]
  },
  {
   "cell_type": "code",
   "execution_count": 51,
   "metadata": {},
   "outputs": [
    {
     "data": {
      "text/html": [
       "<div>\n",
       "<style scoped>\n",
       "    .dataframe tbody tr th:only-of-type {\n",
       "        vertical-align: middle;\n",
       "    }\n",
       "\n",
       "    .dataframe tbody tr th {\n",
       "        vertical-align: top;\n",
       "    }\n",
       "\n",
       "    .dataframe thead th {\n",
       "        text-align: right;\n",
       "    }\n",
       "</style>\n",
       "<table border=\"1\" class=\"dataframe\">\n",
       "  <thead>\n",
       "    <tr style=\"text-align: right;\">\n",
       "      <th></th>\n",
       "      <th>nom</th>\n",
       "      <th>sexe</th>\n",
       "      <th>taille</th>\n",
       "      <th>naissance</th>\n",
       "      <th>poids</th>\n",
       "    </tr>\n",
       "  </thead>\n",
       "  <tbody>\n",
       "    <tr>\n",
       "      <th>0</th>\n",
       "      <td>tutu</td>\n",
       "      <td>M</td>\n",
       "      <td>1.56</td>\n",
       "      <td>11/12/82</td>\n",
       "      <td>68.0</td>\n",
       "    </tr>\n",
       "    <tr>\n",
       "      <th>1</th>\n",
       "      <td>toto</td>\n",
       "      <td>M</td>\n",
       "      <td>1.82</td>\n",
       "      <td>21/12/82</td>\n",
       "      <td>81.0</td>\n",
       "    </tr>\n",
       "  </tbody>\n",
       "</table>\n",
       "</div>"
      ],
      "text/plain": [
       "    nom sexe  taille naissance  poids\n",
       "0  tutu    M    1.56  11/12/82   68.0\n",
       "1  toto    M    1.82  21/12/82   81.0"
      ]
     },
     "execution_count": 51,
     "metadata": {},
     "output_type": "execute_result"
    }
   ],
   "source": [
    "df.loc[df[\"sexe\"]==\"M\"]"
   ]
  },
  {
   "cell_type": "code",
   "execution_count": 52,
   "metadata": {},
   "outputs": [
    {
     "data": {
      "text/plain": [
       "74.5"
      ]
     },
     "execution_count": 52,
     "metadata": {},
     "output_type": "execute_result"
    }
   ],
   "source": [
    "df.loc[df[\"sexe\"]==\"M\"][\"poids\"].mean()"
   ]
  },
  {
   "attachments": {},
   "cell_type": "markdown",
   "metadata": {},
   "source": [
    "### Analyse\n",
    "\n",
    "La commande `df.loc[df[\"sexe\"]==\"M\"]`, extrait le sous dataframe ne contenant que les hommes. On peut alors prendre la colone `poids` et faire la moyenne."
   ]
  },
  {
   "cell_type": "markdown",
   "metadata": {},
   "source": [
    "> ### 8.\n",
    "Faites apparaître le nom de la personne la plus légère."
   ]
  },
  {
   "cell_type": "code",
   "execution_count": 66,
   "metadata": {},
   "outputs": [
    {
     "name": "stdout",
     "output_type": "stream",
     "text": [
      "[\"Personne la plus légère s'appelle : tutu\"]\n"
     ]
    }
   ],
   "source": [
    "indice_poids_min = df[\"poids\"].min()\n",
    "print(\"Personne la plus légère s'appelle : \" + df.loc[df[\"poids\"] == indice_poids_min][\"nom\"].values)\n"
   ]
  },
  {
   "attachments": {},
   "cell_type": "markdown",
   "metadata": {},
   "source": [
    "# Exercice 2: Analyse d'un jeu de données bancaires"
   ]
  },
  {
   "cell_type": "markdown",
   "metadata": {},
   "source": [
    "    Le jeu de données GermanCredit.data, disponible sur le site de l’ UCI repository, comporte desrenseignements\n",
    "    sur 1000 clients d’une banque allemande, chaque client étant décrit par 20 variables.\n",
    "    \n",
    "    \n",
    "> ### 1. \n",
    "Téléchargez le et importez le dans une DataFrame en utilisant la commande `german = pd.read_csv(\"nom.csv, sep = ' ', header=None)`"
   ]
  },
  {
   "cell_type": "code",
   "execution_count": 67,
   "metadata": {},
   "outputs": [],
   "source": [
    "german = pd.read_csv(\"german.data\", sep = ' ', header=None)"
   ]
  },
  {
   "cell_type": "markdown",
   "metadata": {},
   "source": [
    "> ### 2.\n",
    "Creez le dictionnaire `{1: \"durée\", 4:\"montant\"}` et utilisez le dans la commande `german.rename()` pour renommer les colonnes correspondantes."
   ]
  },
  {
   "cell_type": "code",
   "execution_count": 75,
   "metadata": {},
   "outputs": [],
   "source": [
    "dict = {1: \"durée\", 4: \"montant\"}\n",
    "german.rename(mapper=dict, inplace=True, axis=1)"
   ]
  },
  {
   "cell_type": "markdown",
   "metadata": {},
   "source": [
    "> ### 3.\n",
    "Utilisez la commade `describe` de pandas pour obtenir des premières informations sur la durée et les montants du crédit"
   ]
  },
  {
   "cell_type": "code",
   "execution_count": 76,
   "metadata": {},
   "outputs": [
    {
     "data": {
      "text/html": [
       "<div>\n",
       "<style scoped>\n",
       "    .dataframe tbody tr th:only-of-type {\n",
       "        vertical-align: middle;\n",
       "    }\n",
       "\n",
       "    .dataframe tbody tr th {\n",
       "        vertical-align: top;\n",
       "    }\n",
       "\n",
       "    .dataframe thead th {\n",
       "        text-align: right;\n",
       "    }\n",
       "</style>\n",
       "<table border=\"1\" class=\"dataframe\">\n",
       "  <thead>\n",
       "    <tr style=\"text-align: right;\">\n",
       "      <th></th>\n",
       "      <th>durée</th>\n",
       "      <th>montant</th>\n",
       "    </tr>\n",
       "  </thead>\n",
       "  <tbody>\n",
       "    <tr>\n",
       "      <th>count</th>\n",
       "      <td>1000.000000</td>\n",
       "      <td>1000.000000</td>\n",
       "    </tr>\n",
       "    <tr>\n",
       "      <th>mean</th>\n",
       "      <td>20.903000</td>\n",
       "      <td>3271.258000</td>\n",
       "    </tr>\n",
       "    <tr>\n",
       "      <th>std</th>\n",
       "      <td>12.058814</td>\n",
       "      <td>2822.736876</td>\n",
       "    </tr>\n",
       "    <tr>\n",
       "      <th>min</th>\n",
       "      <td>4.000000</td>\n",
       "      <td>250.000000</td>\n",
       "    </tr>\n",
       "    <tr>\n",
       "      <th>25%</th>\n",
       "      <td>12.000000</td>\n",
       "      <td>1365.500000</td>\n",
       "    </tr>\n",
       "    <tr>\n",
       "      <th>50%</th>\n",
       "      <td>18.000000</td>\n",
       "      <td>2319.500000</td>\n",
       "    </tr>\n",
       "    <tr>\n",
       "      <th>75%</th>\n",
       "      <td>24.000000</td>\n",
       "      <td>3972.250000</td>\n",
       "    </tr>\n",
       "    <tr>\n",
       "      <th>max</th>\n",
       "      <td>72.000000</td>\n",
       "      <td>18424.000000</td>\n",
       "    </tr>\n",
       "  </tbody>\n",
       "</table>\n",
       "</div>"
      ],
      "text/plain": [
       "             durée       montant\n",
       "count  1000.000000   1000.000000\n",
       "mean     20.903000   3271.258000\n",
       "std      12.058814   2822.736876\n",
       "min       4.000000    250.000000\n",
       "25%      12.000000   1365.500000\n",
       "50%      18.000000   2319.500000\n",
       "75%      24.000000   3972.250000\n",
       "max      72.000000  18424.000000"
      ]
     },
     "execution_count": 76,
     "metadata": {},
     "output_type": "execute_result"
    }
   ],
   "source": [
    "german[[\"durée\", \"montant\"]].describe()"
   ]
  },
  {
   "cell_type": "markdown",
   "metadata": {},
   "source": [
    "> ### 4.\n",
    "Utilisez la commande `german.boxplot()` pour créez une boite à moustache de la variable durée.\n",
    "    Faire de même pour la variable montant."
   ]
  },
  {
   "cell_type": "code",
   "execution_count": 79,
   "metadata": {},
   "outputs": [
    {
     "data": {
      "text/plain": [
       "<AxesSubplot:>"
      ]
     },
     "execution_count": 79,
     "metadata": {},
     "output_type": "execute_result"
    },
    {
     "data": {
      "image/png": "[encoded data removed]",
      "text/plain": [
       "<Figure size 432x288 with 1 Axes>"
      ]
     },
     "metadata": {
      "needs_background": "light"
     },
     "output_type": "display_data"
    }
   ],
   "source": [
    "german.boxplot('durée')"
   ]
  },
  {
   "cell_type": "code",
   "execution_count": 80,
   "metadata": {},
   "outputs": [
    {
     "data": {
      "text/plain": [
       "<AxesSubplot:>"
      ]
     },
     "execution_count": 80,
     "metadata": {},
     "output_type": "execute_result"
    },
    {
     "data": {
      "image/png": "[encoded data removed]",
      "text/plain": [
       "<Figure size 432x288 with 1 Axes>"
      ]
     },
     "metadata": {
      "needs_background": "light"
     },
     "output_type": "display_data"
    }
   ],
   "source": [
    "german.boxplot(\"montant\")"
   ]
  },
  {
   "cell_type": "markdown",
   "metadata": {},
   "source": [
    "> ### 5. \n",
    "Faire la question précedente en utilisant le module seaborn: `sns.boxplot`"
   ]
  },
  {
   "cell_type": "code",
   "execution_count": 81,
   "metadata": {},
   "outputs": [
    {
     "data": {
      "text/plain": [
       "<AxesSubplot:xlabel='durée'>"
      ]
     },
     "execution_count": 81,
     "metadata": {},
     "output_type": "execute_result"
    },
    {
     "data": {
      "image/png": "[encoded data removed]",
      "text/plain": [
       "<Figure size 432x288 with 1 Axes>"
      ]
     },
     "metadata": {
      "needs_background": "light"
     },
     "output_type": "display_data"
    }
   ],
   "source": [
    "sns.boxplot(x=german[\"durée\"])"
   ]
  },
  {
   "cell_type": "code",
   "execution_count": 82,
   "metadata": {},
   "outputs": [
    {
     "data": {
      "text/plain": [
       "<AxesSubplot:xlabel='montant'>"
      ]
     },
     "execution_count": 82,
     "metadata": {},
     "output_type": "execute_result"
    },
    {
     "data": {
      "image/png": "[encoded data removed]",
      "text/plain": [
       "<Figure size 432x288 with 1 Axes>"
      ]
     },
     "metadata": {
      "needs_background": "light"
     },
     "output_type": "display_data"
    }
   ],
   "source": [
    "sns.boxplot(x=german[\"montant\"])"
   ]
  },
  {
   "cell_type": "markdown",
   "metadata": {},
   "source": [
    "> ### 7. \n",
    "Utilisez la commande `german.hist` pour tracer un histograme des variables durées et montant"
   ]
  },
  {
   "cell_type": "code",
   "execution_count": 84,
   "metadata": {},
   "outputs": [
    {
     "data": {
      "text/plain": [
       "array([[<AxesSubplot:title={'center':'montant'}>]], dtype=object)"
      ]
     },
     "execution_count": 84,
     "metadata": {},
     "output_type": "execute_result"
    },
    {
     "data": {
      "image/png": "[encoded data removed]",
      "text/plain": [
       "<Figure size 432x288 with 1 Axes>"
      ]
     },
     "metadata": {
      "needs_background": "light"
     },
     "output_type": "display_data"
    }
   ],
   "source": [
    "german.hist(\"montant\")"
   ]
  },
  {
   "cell_type": "code",
   "execution_count": 85,
   "metadata": {},
   "outputs": [
    {
     "data": {
      "text/plain": [
       "array([[<AxesSubplot:title={'center':'durée'}>]], dtype=object)"
      ]
     },
     "execution_count": 85,
     "metadata": {},
     "output_type": "execute_result"
    },
    {
     "data": {
      "image/png": "[encoded data removed]",
      "text/plain": [
       "<Figure size 432x288 with 1 Axes>"
      ]
     },
     "metadata": {
      "needs_background": "light"
     },
     "output_type": "display_data"
    }
   ],
   "source": [
    "german.hist(\"durée\")"
   ]
  },
  {
   "cell_type": "markdown",
   "metadata": {},
   "source": [
    "> ### 8. \n",
    "Utilisez la commande `german.plot.scatter` pour tracer le scatter plot des variable \"durée\" et \"montant\""
   ]
  },
  {
   "cell_type": "code",
   "execution_count": 89,
   "metadata": {},
   "outputs": [
    {
     "data": {
      "text/plain": [
       "<AxesSubplot:xlabel='durée', ylabel='montant'>"
      ]
     },
     "execution_count": 89,
     "metadata": {},
     "output_type": "execute_result"
    },
    {
     "data": {
      "image/png": "[encoded data removed]",
      "text/plain": [
       "<Figure size 432x288 with 1 Axes>"
      ]
     },
     "metadata": {
      "needs_background": "light"
     },
     "output_type": "display_data"
    }
   ],
   "source": [
    "german.plot.scatter(x=\"durée\", y=\"montant\")"
   ]
  },
  {
   "cell_type": "markdown",
   "metadata": {},
   "source": [
    "> ### 9.\n",
    "Tracez la table de correlations entre \"durée\" et \"montant\" à l'aide de la commande `german[].corr()` (pensez à selectionner les bonnes colonnes)."
   ]
  },
  {
   "cell_type": "code",
   "execution_count": 90,
   "metadata": {},
   "outputs": [
    {
     "data": {
      "text/html": [
       "<div>\n",
       "<style scoped>\n",
       "    .dataframe tbody tr th:only-of-type {\n",
       "        vertical-align: middle;\n",
       "    }\n",
       "\n",
       "    .dataframe tbody tr th {\n",
       "        vertical-align: top;\n",
       "    }\n",
       "\n",
       "    .dataframe thead th {\n",
       "        text-align: right;\n",
       "    }\n",
       "</style>\n",
       "<table border=\"1\" class=\"dataframe\">\n",
       "  <thead>\n",
       "    <tr style=\"text-align: right;\">\n",
       "      <th></th>\n",
       "      <th>durée</th>\n",
       "      <th>montant</th>\n",
       "    </tr>\n",
       "  </thead>\n",
       "  <tbody>\n",
       "    <tr>\n",
       "      <th>durée</th>\n",
       "      <td>1.000000</td>\n",
       "      <td>0.624984</td>\n",
       "    </tr>\n",
       "    <tr>\n",
       "      <th>montant</th>\n",
       "      <td>0.624984</td>\n",
       "      <td>1.000000</td>\n",
       "    </tr>\n",
       "  </tbody>\n",
       "</table>\n",
       "</div>"
      ],
      "text/plain": [
       "            durée   montant\n",
       "durée    1.000000  0.624984\n",
       "montant  0.624984  1.000000"
      ]
     },
     "execution_count": 90,
     "metadata": {},
     "output_type": "execute_result"
    }
   ],
   "source": [
    "german[[\"durée\", \"montant\"]].corr()"
   ]
  },
  {
   "cell_type": "markdown",
   "metadata": {},
   "source": [
    "> ### 10.\n",
    "Utilisez `stat.pearsonr` pour tester la correlation entre les deux variables. Que peut-on en conclure?"
   ]
  },
  {
   "cell_type": "code",
   "execution_count": 91,
   "metadata": {},
   "outputs": [
    {
     "data": {
      "text/plain": [
       "(0.6249841983009814, 1.8628512880508719e-109)"
      ]
     },
     "execution_count": 91,
     "metadata": {},
     "output_type": "execute_result"
    }
   ],
   "source": [
    "stat.pearsonr(x=german[\"durée\"], y=german[\"montant\"])"
   ]
  },
  {
   "attachments": {},
   "cell_type": "markdown",
   "metadata": {},
   "source": [
    "### Analyse question 10\n",
    "\n",
    "On test ici l'hypothèse de \"non corrélation entre x et y\" donc ici `durée` et `montant`. On obtient une p-value très inférieure à 5%, on peut donc rejeter l'hypothèse de départ. Les deux valeurs sont donc corélées."
   ]
  },
  {
   "attachments": {},
   "cell_type": "markdown",
   "metadata": {},
   "source": [
    "# Exercice 3: Simulation d'un jeu de données\n",
    "\n",
    ">### 1. \n",
    "Quel est l'effet de la commande suivante?\n",
    "\n",
    "````\n",
    "for i in range(3):\n",
    "    if i<2:\n",
    "        print(i, \": \", np.random.rand())\n",
    "    else:\n",
    "        print(i, \": \", np.random.rand(2,3))\n",
    "````"
   ]
  },
  {
   "cell_type": "code",
   "execution_count": 92,
   "metadata": {},
   "outputs": [
    {
     "name": "stdout",
     "output_type": "stream",
     "text": [
      "0 :  0.9270691685443507\n",
      "1 :  0.7630001665317535\n",
      "2 :  [[0.30338251 0.88405175 0.53352674]\n",
      " [0.59692707 0.75665887 0.73542963]]\n"
     ]
    }
   ],
   "source": [
    "for i in range(3):\n",
    "    if i<2:\n",
    "        print(i, \": \", np.random.rand())\n",
    "    else:\n",
    "        print(i, \": \", np.random.rand(2,3))"
   ]
  },
  {
   "attachments": {},
   "cell_type": "markdown",
   "metadata": {},
   "source": [
    "### Analyse question 3.1\n",
    "\n",
    "Pour les ittérations 1 et 2 on génère pseudo-aléatoirement un nombre entre 0 et 1.\n",
    "L'itération 3 va générer un tableau de taille `(2,3)` composé de nombres aléatoire entre 0 1."
   ]
  },
  {
   "attachments": {},
   "cell_type": "markdown",
   "metadata": {},
   "source": [
    ">### 2. \n",
    "Commentez la différence avec la question précédente.\n",
    "(essayez d'executer la cellule plusieurs fois de suite)\n",
    "\n",
    "````\n",
    "np.random.seed(0)\n",
    "for i in range(3):\n",
    "    if i<2:\n",
    "        print(i, \": \", np.random.rand())\n",
    "    else:\n",
    "        print(i, \": \", np.random.rand(2,3))\n",
    "````"
   ]
  },
  {
   "cell_type": "code",
   "execution_count": 96,
   "metadata": {},
   "outputs": [
    {
     "name": "stdout",
     "output_type": "stream",
     "text": [
      "0 :  0.5488135039273248\n",
      "1 :  0.7151893663724195\n",
      "2 :  [[0.60276338 0.54488318 0.4236548 ]\n",
      " [0.64589411 0.43758721 0.891773  ]]\n"
     ]
    }
   ],
   "source": [
    "np.random.seed(0)\n",
    "for i in range(3):\n",
    "    if i<2:\n",
    "        print(i, \": \", np.random.rand())\n",
    "    else:\n",
    "        print(i, \": \", np.random.rand(2,3))"
   ]
  },
  {
   "attachments": {},
   "cell_type": "markdown",
   "metadata": {},
   "source": [
    "### Analyse question 3.2 :\n",
    "\n",
    "Même résultat que la question 3.1 MAIS ici l'utilisation du seed donne un comportement différent. On obtient toujours les même nombres pseudo-aléatoires aléatoire. On en déduit que le seed permet la reproductibilité de nos expériences aléatoires."
   ]
  },
  {
   "cell_type": "markdown",
   "metadata": {},
   "source": [
    "> ### 3. \n",
    "Sauvegardez dans une variable \"simul\" un échantillon de 100 valeurs aléatoires, chacune tirée uniformément dans [0,1].\n",
    "\n",
    ">Tracez son histogramme avec la commande plt.hist"
   ]
  },
  {
   "cell_type": "code",
   "execution_count": 108,
   "metadata": {},
   "outputs": [],
   "source": [
    "simul = []\n",
    "np.random.seed(3000)\n",
    "for i in range (100):\n",
    "    simul.append(np.random.rand())"
   ]
  },
  {
   "cell_type": "code",
   "execution_count": 109,
   "metadata": {},
   "outputs": [
    {
     "data": {
      "text/plain": [
       "(array([10., 10.,  6., 13.,  8., 11., 11.,  9.,  8., 14.]),\n",
       " array([0.00597717, 0.10509508, 0.20421299, 0.30333089, 0.4024488 ,\n",
       "        0.5015667 , 0.60068461, 0.69980252, 0.79892042, 0.89803833,\n",
       "        0.99715624]),\n",
       " <BarContainer object of 10 artists>)"
      ]
     },
     "execution_count": 109,
     "metadata": {},
     "output_type": "execute_result"
    },
    {
     "data": {
      "image/png": "[encoded data removed]",
      "text/plain": [
       "<Figure size 432x288 with 1 Axes>"
      ]
     },
     "metadata": {
      "needs_background": "light"
     },
     "output_type": "display_data"
    }
   ],
   "source": [
    "plt.hist(simul)"
   ]
  },
  {
   "cell_type": "markdown",
   "metadata": {},
   "source": [
    "\n",
    "> ### 4. \n",
    "Dans les commandes précédentes remplacez `rand` par `randn` et `exponential`. Qu'est ce qui change?"
   ]
  },
  {
   "cell_type": "code",
   "execution_count": 107,
   "metadata": {},
   "outputs": [
    {
     "data": {
      "text/plain": [
       "(array([ 5.,  6., 12., 16., 14., 20., 13.,  7.,  4.,  3.]),\n",
       " array([-2.26296786, -1.77908541, -1.29520296, -0.81132051, -0.32743806,\n",
       "         0.15644439,  0.64032684,  1.12420929,  1.60809174,  2.09197419,\n",
       "         2.57585664]),\n",
       " <BarContainer object of 10 artists>)"
      ]
     },
     "execution_count": 107,
     "metadata": {},
     "output_type": "execute_result"
    },
    {
     "data": {
      "image/png": "[encoded data removed]",
      "text/plain": [
       "<Figure size 432x288 with 1 Axes>"
      ]
     },
     "metadata": {
      "needs_background": "light"
     },
     "output_type": "display_data"
    }
   ],
   "source": [
    "simul_randn = []\n",
    "for i in range (100):\n",
    "    simul_randn.append(np.random.randn())\n",
    "plt.hist(simul_randn)"
   ]
  },
  {
   "cell_type": "code",
   "execution_count": 106,
   "metadata": {},
   "outputs": [
    {
     "data": {
      "text/plain": [
       "(array([34., 22., 17.,  8.,  8.,  4.,  3.,  2.,  1.,  1.]),\n",
       " array([0.00576561, 0.45501111, 0.90425662, 1.35350212, 1.80274762,\n",
       "        2.25199313, 2.70123863, 3.15048413, 3.59972964, 4.04897514,\n",
       "        4.49822064]),\n",
       " <BarContainer object of 10 artists>)"
      ]
     },
     "execution_count": 106,
     "metadata": {},
     "output_type": "execute_result"
    },
    {
     "data": {
      "image/png": "[encoded data removed]",
      "text/plain": [
       "<Figure size 432x288 with 1 Axes>"
      ]
     },
     "metadata": {
      "needs_background": "light"
     },
     "output_type": "display_data"
    }
   ],
   "source": [
    "simul_exp = []\n",
    "for i in range (100):\n",
    "    simul_exp.append(np.random.exponential())\n",
    "plt.hist(simul_exp)"
   ]
  },
  {
   "attachments": {},
   "cell_type": "markdown",
   "metadata": {},
   "source": [
    "### Analyse question 3.4\n",
    "\n",
    "Ici nous obtenons des distributions différentes, normale puis exponentielle. Elles s'observent directement dans l'histogramme."
   ]
  },
  {
   "cell_type": "markdown",
   "metadata": {},
   "source": [
    "> ### 5. \n",
    "Simulez dans une variable `simul12`, 12 simulations (1 par ligne) de 1000 tirages d'une loi uniforme\n",
    " Utilisez la commande `np.sum` pour avoir une array de 1000 éléments qui somme les 12 tirages. Sauvegarder ce resultat dans une variable `simul_sum`.\n",
    "    Enfin tracez l'histogramme de `simul_sum`. De quoi s'aperçoit-on. Commentez."
   ]
  },
  {
   "cell_type": "code",
   "execution_count": 119,
   "metadata": {},
   "outputs": [
    {
     "data": {
      "text/plain": [
       "(array([  4.,  15.,  61., 151., 207., 266., 164., 100.,  30.,   2.]),\n",
       " array([2.58026808, 3.23555367, 3.89083926, 4.54612485, 5.20141044,\n",
       "        5.85669603, 6.51198162, 7.16726721, 7.8225528 , 8.47783839,\n",
       "        9.13312398]),\n",
       " <BarContainer object of 10 artists>)"
      ]
     },
     "execution_count": 119,
     "metadata": {},
     "output_type": "execute_result"
    },
    {
     "data": {
      "image/png": "[encoded data removed]",
      "text/plain": [
       "<Figure size 432x288 with 1 Axes>"
      ]
     },
     "metadata": {
      "needs_background": "light"
     },
     "output_type": "display_data"
    }
   ],
   "source": [
    "simul12 = []\n",
    "np.random.seed(4)\n",
    "for i in range(12):\n",
    "    simul12.append([])\n",
    "    for j in range(1000):\n",
    "        simul12[i].append(np.random.rand())\n",
    "\n",
    "simul_sum = np.sum(simul12, axis=0)\n",
    "plt.hist(simul_sum)"
   ]
  },
  {
   "attachments": {},
   "cell_type": "markdown",
   "metadata": {},
   "source": [
    "### Analyse question 3.5\n",
    "\n",
    "On observe que la distribution de la somme semble suivre une loi normale, ce qui est normal étant donné le théorème central limite.\n",
    "Dans le cas spécifique de variables uniformes entre 0 et 1, le théorème central limite énonce que si X1, X2, ..., Xn sont des variables aléatoires indépendantes et identiquement distribuées selon une loi uniforme sur [0,1], alors leur somme S_n = X1 + X2 + ... + Xn suit approximativement une loi normale N(mu, sigma^2) pour n suffisamment grand, où mu = n/2 et sigma^2 = n/12."
   ]
  },
  {
   "cell_type": "markdown",
   "metadata": {},
   "source": [
    "> ### 6.\n",
    "Utilisez la commande `sns.kdeplot`, pour tracer la densité estimée de simul_sum"
   ]
  },
  {
   "cell_type": "code",
   "execution_count": 120,
   "metadata": {},
   "outputs": [
    {
     "data": {
      "text/plain": [
       "<AxesSubplot:ylabel='Density'>"
      ]
     },
     "execution_count": 120,
     "metadata": {},
     "output_type": "execute_result"
    },
    {
     "data": {
      "image/png": "[encoded data removed]",
      "text/plain": [
       "<Figure size 432x288 with 1 Axes>"
      ]
     },
     "metadata": {
      "needs_background": "light"
     },
     "output_type": "display_data"
    }
   ],
   "source": [
    "sns.kdeplot(simul_sum)"
   ]
  },
  {
   "cell_type": "markdown",
   "metadata": {},
   "source": [
    "> ### 7.\n",
    "Utilisez la commande `stat.ttest_1samp` du module scipy.stats pour faire un test de student de moyenne 6.\n",
    "Faire de même un test de student de correspondance à une moyenne de 7.\n",
    "Commentez."
   ]
  },
  {
   "cell_type": "code",
   "execution_count": 125,
   "metadata": {},
   "outputs": [
    {
     "name": "stdout",
     "output_type": "stream",
     "text": [
      "Ttest_1sampResult(statistic=-0.44387954644254396, pvalue=0.657225797917541)\n",
      "Ttest_1sampResult(statistic=-31.555614885822145, pvalue=3.470632716455721e-152)\n"
     ]
    }
   ],
   "source": [
    "print(stat.ttest_1samp(simul_sum, 6))\n",
    "print(stat.ttest_1samp(simul_sum, 7))"
   ]
  },
  {
   "attachments": {},
   "cell_type": "markdown",
   "metadata": {},
   "source": [
    "### Analyse question 3.7\n",
    "\n",
    "Ici la p-value du test de student le nous permet pas d'affirmer que la moyenne vaut 6 mais elle nous permet de réfuter que la moyenne de notre distribution simul_sum vaut 7."
   ]
  },
  {
   "cell_type": "markdown",
   "metadata": {},
   "source": [
    "## Exercice 4: Temps d'attente moyen au guichet\n",
    "\n",
    "On cherche à estimer le temps d’attente moyen au guichet d’une grande banque aux heures de forte affluence.\n",
    "On a observé 26 clients choisis au hasard et on a obtenu les temps d’attente sauvegardés dans une liste `t_a`.\n",
    "\n",
    "On suppose que ces temps d'attentes sont distribués normalement et on se demande:\n",
    "\n",
    "Est-ce qu'on peut rejetter, au risque de 5%, le fait que le temps d'attente au guichet est égal à 4 minutes?"
   ]
  },
  {
   "cell_type": "code",
   "execution_count": 127,
   "metadata": {},
   "outputs": [],
   "source": [
    "t_a = [6.1, 4.7, 5.6, 4.5, 5.5, 6.8, 2.1, 2.1, 3.5, 2.5, 6.7, 4.4, 4.5, 6.5, 4.9, 3.8, 2.5, 4.0, 6.5, 5.6, 2.7, 3.4, 5.6, 3.5, 4.8, 4.4]"
   ]
  },
  {
   "attachments": {},
   "cell_type": "markdown",
   "metadata": {},
   "source": [
    ">### 1.\n",
    "    On pense effectuer un test de Student. Pourquoi est-il approprié ici? Dans quel cas ne serait-il pas?"
   ]
  },
  {
   "attachments": {},
   "cell_type": "markdown",
   "metadata": {},
   "source": [
    "On applique le test de student pour tester la conformité de la moyenne lorsque la variance est inconue. Ici on nous dit que les temps d'attentes sont distribuées selon une loi normale mais sans nous donner sa variance. On chercher à tester un temps d'attente moyen le test de student est donc pertinant. Si la variance était connue on utiliserait un test fondé sur la loi normale."
   ]
  },
  {
   "cell_type": "markdown",
   "metadata": {},
   "source": [
    ">### 2.\n",
    "Effectuez ce test à l'aide de la fonction `stat.ttest_1samp`.\n",
    "    Interpretez les résultats.\n"
   ]
  },
  {
   "cell_type": "code",
   "execution_count": 128,
   "metadata": {},
   "outputs": [
    {
     "data": {
      "text/plain": [
       "Ttest_1sampResult(statistic=1.7891501337389777, pvalue=0.08571467358919063)"
      ]
     },
     "execution_count": 128,
     "metadata": {},
     "output_type": "execute_result"
    }
   ],
   "source": [
    "stat.ttest_1samp(t_a, 4)"
   ]
  },
  {
   "attachments": {},
   "cell_type": "markdown",
   "metadata": {},
   "source": [
    "Ici la p-value est de 8% donc on ne peut pas rejeter au risque de 5% que la moyenne du temps d'attente vaut 4mn. Mais on ne dit pas quelle vaut 4mn, on sait juste qu'on ne peut pas rejeter le fait quelle soit de 4mn (à 5%)."
   ]
  },
  {
   "cell_type": "markdown",
   "metadata": {},
   "source": [
    "> ### 3.\n",
    "On voudrait maintenant tester l'hypothèse que le temps d'attente est supérieur à 4.\n",
    "    En utilisant l'argument optionnel \"alternative\" dans la fonction `stat.ttest_1samp`, testez cette hypothèse.\n",
    "    (lisez la documntation si besoin).\n",
    "    Commentez."
   ]
  },
  {
   "cell_type": "code",
   "execution_count": 129,
   "metadata": {},
   "outputs": [
    {
     "data": {
      "text/plain": [
       "Ttest_1sampResult(statistic=1.7891501337389777, pvalue=0.042857336794595316)"
      ]
     },
     "execution_count": 129,
     "metadata": {},
     "output_type": "execute_result"
    }
   ],
   "source": [
    "stat.ttest_1samp(t_a, 4, alternative=\"greater\")"
   ]
  },
  {
   "attachments": {},
   "cell_type": "markdown",
   "metadata": {},
   "source": [
    "Ici on a une p-value à 4%, on peut donc affirmer, au risque de 5%, que la moyenne n'est pas plus grande que 4mn. Notre temps d'attente vaut donc 4mn ou moins !"
   ]
  },
  {
   "cell_type": "markdown",
   "metadata": {},
   "source": [
    "## Exercice 5: Test de performance.\n",
    "\n",
    "        Un directeur d'entreprise a fait passer le même test d'aptitude à deux groupes de candidats. Le temps (en minutes) nécessaire à chacun des candidats pour répondre au test sont stocké ci dessous.\n",
    "        \n",
    "        Nous supposons que les temps de réponse de chaque groupe sont distribués normalement. Et que les performances des deux groupes sont indépendantes."
   ]
  },
  {
   "cell_type": "code",
   "execution_count": 131,
   "metadata": {},
   "outputs": [],
   "source": [
    "time = {\"gr1\": [8.6, 10.9, 7.3, 9.2, 8.5, 9.2, 9.1, 8.9, 10.7, 8.2, 7.1, 9.4, 8.3, 9.7, 9.2],\n",
    "       \"gr2\": [8.3, 7.2, 8.7, 6.7, 10.3, 6.8, 9.8, 8.9, 9.6, 8.6, 6.7, 7.5]}"
   ]
  },
  {
   "cell_type": "markdown",
   "metadata": {},
   "source": [
    ">### 1. \n",
    "    On voudrait tester l'hypothèse que les variances des temps de réponse du groupe 1 et 2 sont identiques.\n",
    "    Pourquoi le test de Fisher est adapté à cette tache. A combien de degrés de libertés? "
   ]
  },
  {
   "attachments": {},
   "cell_type": "markdown",
   "metadata": {},
   "source": [
    "Le test de fisher permet de comparer deux variances, il est donc bien adapté à notre cas d'usage. On utilise comme degré de liberté 14 (groupe 1) et 11 (groupe 2)."
   ]
  },
  {
   "attachments": {},
   "cell_type": "markdown",
   "metadata": {},
   "source": [
    "> ### 2.\n",
    "    Ce test n'est pas fourni par la bibliothèque scipy. On va donc le coder à la main. \n",
    "    Completez le code ci-dessous. "
   ]
  },
  {
   "cell_type": "code",
   "execution_count": null,
   "metadata": {},
   "outputs": [],
   "source": [
    "from scipy.stats import f\n",
    "\n",
    "var1 = np.var(time[\"gr1\"], ddof=1)\n",
    "var2 = np.var(time[\"gr2\"], ddof=1)\n",
    "\n",
    "## Degrés de libertés\n",
    "d1=14\n",
    "d2=11\n",
    "\n",
    "## F est notre statistque de test, formés des variables définies au dessus.\n",
    "F = \n",
    "\n",
    "##Mettez alpha = 0.05 et calculez les quantiles alpha, et 1-alpha de la loi de Fischer correspondante\n",
    "alpha= 0.05\n",
    "q1 = f.ppf()\n",
    "q2 = f.ppf()\n",
    "\n",
    "### Test d'hypothèse \n",
    "if F<q1 or F > q2:\n",
    "    print(\"H_0 est rejetté au risque < 5%\")\n",
    "else:\n",
    "    print(\"On ne peut pas rejetter H_0 au risque < 5%\")\n",
    "\n",
    "print(\"variance empirique du groupe 1 : \", var1)\n",
    "print(\"variance empirique du groupe 2 : \", var2)\n",
    "print(\"statistique de test : \", F)\n"
   ]
  },
  {
   "cell_type": "markdown",
   "metadata": {},
   "source": [
    "> ### 4.\n",
    "    Pourquoi a-t-on mis ddof=1 dans les calculs de la variance?"
   ]
  },
  {
   "cell_type": "markdown",
   "metadata": {},
   "source": [
    "> ### 5.\n",
    "    En utilisant la fonction f.cdf et la statistique F calculée à la question précédente. Calculez la p value du test."
   ]
  },
  {
   "cell_type": "markdown",
   "metadata": {},
   "source": [
    "> ### 6.  \n",
    " Si la performance des candidats des deux sexes lors du test n’est évaluée que par le temps nécessaire\n",
    "    pour y répondre, peut-on affirmer qu’il y a une différence réelle entre la performance moyenne des\n",
    "    candidats et celle des candidates ? \n",
    " En utilisant `stat.ttest_ind` effectuez le test correspondant et justifiez le choix de ce test."
   ]
  },
  {
   "cell_type": "markdown",
   "metadata": {},
   "source": [
    "## Exercice 6. Test d'adéquation à une loi\n",
    "\n",
    "Le fichier des.csv (csv des) contient 1200 réalisation d'un lancé de dès. Importez le avec la fonction `pd.read_csv`.\n",
    "    \n",
    ">### 1.\n",
    "On voudrait tester l'hypothèse que le dè n'est pas truqué. Quel test choisir? Effectuez le test avec la fonction du module `scipy.stats` (importé `stat` précédemment) correspondante.\n",
    "indice: utilisez la fonction `np.unique()` pour calculez les fréquences d'apparitions."
   ]
  },
  {
   "cell_type": "markdown",
   "metadata": {},
   "source": [
    "> ### 2.\n",
    " Effectuez le test d'adéquation à la loi qui donne 1/6 de probabilité d'apparition au chiffres 1,3,4,6; 1/12 au chiffre 2 et 1/4 au chiffre 5."
   ]
  },
  {
   "cell_type": "markdown",
   "metadata": {},
   "source": [
    "## Exercice 7.  Tests d'indépendance\n",
    "\n",
    ">### 1.\n",
    "   Importez le fichier `hsb2.csv` dans une dataframe. Affichez les première lignes."
   ]
  },
  {
   "cell_type": "markdown",
   "metadata": {},
   "source": [
    "dans la suite on choisira un test adapté pour répondre aux questions posées\n",
    "\n",
    ">### 2.\n",
    "    Le sexe des lycéens influence-t-il le type d'établissement fréquenté?\n"
   ]
  },
  {
   "cell_type": "markdown",
   "metadata": {},
   "source": [
    "> ### 3.\n",
    "    Pourquoi il n'est pas très judicieux d'effectuer un test similaire pour tester l'indépendance entre le statut social (varible \"ses\") et l'ethnie?\n",
    "    indice: faites afficher le tableau de contingence pour ces variables."
   ]
  },
  {
   "cell_type": "markdown",
   "metadata": {},
   "source": [
    "> ### 4. \n",
    "    Proposez une méthode de modification de données pour tester tout de même l'indépendance. Effectuez le test correspondant."
   ]
  }
 ],
 "metadata": {
  "kernelspec": {
   "display_name": "Python 3 (ipykernel)",
   "language": "python",
   "name": "python3"
  },
  "language_info": {
   "codemirror_mode": {
    "name": "ipython",
    "version": 3
   },
   "file_extension": ".py",
   "mimetype": "text/x-python",
   "name": "python",
   "nbconvert_exporter": "python",
   "pygments_lexer": "ipython3",
   "version": "3.9.7"
  }
 },
 "nbformat": 4,
 "nbformat_minor": 2
}
