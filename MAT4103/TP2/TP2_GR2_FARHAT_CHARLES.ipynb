{
 "cells": [
  {
   "cell_type": "markdown",
   "id": "40aae370",
   "metadata": {},
   "source": [
    "# TP 2 : Sondage\n",
    "\n",
    "#### Consignes.\n",
    ">   \n",
    "Répondre à chaque question dans les cellules que vous créerez après la question correspondante.\n",
    "La note prendra compte de la **présentation et de la clareté des réponses**.\n",
    " \n",
    ">Envoyez le tp sur le mail\n",
    "sholom.schechtman@telecom-sudparis.eu avec comme sujet: **TP2_GR1_NOM_PRENOM** si vous êtes groupe 1 et **TP2_GR2_NOM_PRENOM** si vous êtes groupe 2. C'est **important** pour que votre tp ne se perde pas et soit **noté**."
   ]
  },
  {
   "cell_type": "code",
   "execution_count": 1,
   "id": "ec6296b7",
   "metadata": {},
   "outputs": [],
   "source": [
    "import pandas as pd\n",
    "import matplotlib.pyplot as plt\n",
    "import numpy as np\n",
    "import scipy.stats as stat\n",
    "import seaborn as sns\n",
    "%matplotlib inline"
   ]
  },
  {
   "cell_type": "markdown",
   "id": "6c0dd802",
   "metadata": {},
   "source": [
    "# Exercice 1 : plan de sondage simple\n",
    "\n"
   ]
  },
  {
   "cell_type": "markdown",
   "id": "6a9ef531",
   "metadata": {},
   "source": [
    "> ### 1. \n",
    "Importer le fichier \"pop_paroisses.sas7bdat\" dans une dataframe de nom `paroisse` avec la commande `pd.read_sas`. Faites apparaître les 5 premières lignes.\n",
    "Remarque : vous pouvez utiliser l'option `encoding=\"latin1\"` pour avoir le français affiché correctement."
   ]
  },
  {
   "cell_type": "code",
   "execution_count": 2,
   "id": "61c664b8",
   "metadata": {},
   "outputs": [],
   "source": [
    "paroisse = pd.read_sas(\"pop_paroisses.sas7bdat\", encoding=\"latin1\")"
   ]
  },
  {
   "cell_type": "code",
   "execution_count": 3,
   "id": "2b1a4092",
   "metadata": {},
   "outputs": [
    {
     "data": {
      "text/html": [
       "<div>\n",
       "<style scoped>\n",
       "    .dataframe tbody tr th:only-of-type {\n",
       "        vertical-align: middle;\n",
       "    }\n",
       "\n",
       "    .dataframe tbody tr th {\n",
       "        vertical-align: top;\n",
       "    }\n",
       "\n",
       "    .dataframe thead th {\n",
       "        text-align: right;\n",
       "    }\n",
       "</style>\n",
       "<table border=\"1\" class=\"dataframe\">\n",
       "  <thead>\n",
       "    <tr style=\"text-align: right;\">\n",
       "      <th></th>\n",
       "      <th>paroisse</th>\n",
       "      <th>code</th>\n",
       "      <th>naissance</th>\n",
       "      <th>deces</th>\n",
       "      <th>mar</th>\n",
       "      <th>mrc</th>\n",
       "      <th>region</th>\n",
       "      <th>pop99</th>\n",
       "      <th>pop00</th>\n",
       "      <th>pop01</th>\n",
       "      <th>strate</th>\n",
       "    </tr>\n",
       "  </thead>\n",
       "  <tbody>\n",
       "    <tr>\n",
       "      <th>0</th>\n",
       "      <td>Berthier-sur-Mer</td>\n",
       "      <td>18065.0</td>\n",
       "      <td>11.0</td>\n",
       "      <td>8.0</td>\n",
       "      <td>2.0</td>\n",
       "      <td>18.0</td>\n",
       "      <td>12.0</td>\n",
       "      <td>1271.0</td>\n",
       "      <td>1306.0</td>\n",
       "      <td>1285.0</td>\n",
       "      <td>2.0</td>\n",
       "    </tr>\n",
       "    <tr>\n",
       "      <th>1</th>\n",
       "      <td>Brébeuf</td>\n",
       "      <td>78075.0</td>\n",
       "      <td>7.0</td>\n",
       "      <td>1.0</td>\n",
       "      <td>3.0</td>\n",
       "      <td>78.0</td>\n",
       "      <td>15.0</td>\n",
       "      <td>772.0</td>\n",
       "      <td>782.0</td>\n",
       "      <td>789.0</td>\n",
       "      <td>1.0</td>\n",
       "    </tr>\n",
       "    <tr>\n",
       "      <th>2</th>\n",
       "      <td>Calixa-Lavallée</td>\n",
       "      <td>59030.0</td>\n",
       "      <td>8.0</td>\n",
       "      <td>5.0</td>\n",
       "      <td>7.0</td>\n",
       "      <td>59.0</td>\n",
       "      <td>16.0</td>\n",
       "      <td>493.0</td>\n",
       "      <td>491.0</td>\n",
       "      <td>491.0</td>\n",
       "      <td>1.0</td>\n",
       "    </tr>\n",
       "    <tr>\n",
       "      <th>3</th>\n",
       "      <td>Courcelles</td>\n",
       "      <td>30090.0</td>\n",
       "      <td>9.0</td>\n",
       "      <td>3.0</td>\n",
       "      <td>3.0</td>\n",
       "      <td>30.0</td>\n",
       "      <td>5.0</td>\n",
       "      <td>988.0</td>\n",
       "      <td>996.0</td>\n",
       "      <td>975.0</td>\n",
       "      <td>2.0</td>\n",
       "    </tr>\n",
       "    <tr>\n",
       "      <th>4</th>\n",
       "      <td>Grande-Vallée</td>\n",
       "      <td>3020.0</td>\n",
       "      <td>14.0</td>\n",
       "      <td>6.0</td>\n",
       "      <td>2.0</td>\n",
       "      <td>3.0</td>\n",
       "      <td>11.0</td>\n",
       "      <td>1432.0</td>\n",
       "      <td>1390.0</td>\n",
       "      <td>1362.0</td>\n",
       "      <td>2.0</td>\n",
       "    </tr>\n",
       "  </tbody>\n",
       "</table>\n",
       "</div>"
      ],
      "text/plain": [
       "           paroisse     code  naissance  deces  mar   mrc  region   pop99  \\\n",
       "0  Berthier-sur-Mer  18065.0       11.0    8.0  2.0  18.0    12.0  1271.0   \n",
       "1           Brébeuf  78075.0        7.0    1.0  3.0  78.0    15.0   772.0   \n",
       "2   Calixa-Lavallée  59030.0        8.0    5.0  7.0  59.0    16.0   493.0   \n",
       "3        Courcelles  30090.0        9.0    3.0  3.0  30.0     5.0   988.0   \n",
       "4     Grande-Vallée   3020.0       14.0    6.0  2.0   3.0    11.0  1432.0   \n",
       "\n",
       "    pop00   pop01  strate  \n",
       "0  1306.0  1285.0     2.0  \n",
       "1   782.0   789.0     1.0  \n",
       "2   491.0   491.0     1.0  \n",
       "3   996.0   975.0     2.0  \n",
       "4  1390.0  1362.0     2.0  "
      ]
     },
     "execution_count": 3,
     "metadata": {},
     "output_type": "execute_result"
    }
   ],
   "source": [
    "paroisse.head()"
   ]
  },
  {
   "cell_type": "markdown",
   "id": "b4ddfac3",
   "metadata": {},
   "source": [
    "> ### 2. \n",
    "Utiliser l'option `.sample` d'une dataframe panda pour sélectionner un échantillon de 25 individus en utilisant un plan de sondage simple et sans remise a probabilité égale. Sauvegarder les résultats dans une dataframe de nom `par_sam`."
   ]
  },
  {
   "cell_type": "code",
   "execution_count": 4,
   "id": "e5508718",
   "metadata": {},
   "outputs": [],
   "source": [
    "par_sam = paroisse.sample(n=25, replace=False, random_state=42)"
   ]
  },
  {
   "cell_type": "code",
   "execution_count": 5,
   "id": "2a3cf3b1",
   "metadata": {},
   "outputs": [
    {
     "data": {
      "text/html": [
       "<div>\n",
       "<style scoped>\n",
       "    .dataframe tbody tr th:only-of-type {\n",
       "        vertical-align: middle;\n",
       "    }\n",
       "\n",
       "    .dataframe tbody tr th {\n",
       "        vertical-align: top;\n",
       "    }\n",
       "\n",
       "    .dataframe thead th {\n",
       "        text-align: right;\n",
       "    }\n",
       "</style>\n",
       "<table border=\"1\" class=\"dataframe\">\n",
       "  <thead>\n",
       "    <tr style=\"text-align: right;\">\n",
       "      <th></th>\n",
       "      <th>paroisse</th>\n",
       "      <th>code</th>\n",
       "      <th>naissance</th>\n",
       "      <th>deces</th>\n",
       "      <th>mar</th>\n",
       "      <th>mrc</th>\n",
       "      <th>region</th>\n",
       "      <th>pop99</th>\n",
       "      <th>pop00</th>\n",
       "      <th>pop01</th>\n",
       "      <th>strate</th>\n",
       "    </tr>\n",
       "  </thead>\n",
       "  <tbody>\n",
       "    <tr>\n",
       "      <th>30</th>\n",
       "      <td>Saint-Alexis-des-Monts</td>\n",
       "      <td>51065.0</td>\n",
       "      <td>22.0</td>\n",
       "      <td>15.0</td>\n",
       "      <td>6.0</td>\n",
       "      <td>51.0</td>\n",
       "      <td>4.0</td>\n",
       "      <td>2823.0</td>\n",
       "      <td>2828.0</td>\n",
       "      <td>2824.0</td>\n",
       "      <td>4.0</td>\n",
       "    </tr>\n",
       "    <tr>\n",
       "      <th>172</th>\n",
       "      <td>Saint-Patrice-de-Sherrington</td>\n",
       "      <td>68025.0</td>\n",
       "      <td>18.0</td>\n",
       "      <td>13.0</td>\n",
       "      <td>2.0</td>\n",
       "      <td>68.0</td>\n",
       "      <td>16.0</td>\n",
       "      <td>1981.0</td>\n",
       "      <td>1998.0</td>\n",
       "      <td>1967.0</td>\n",
       "      <td>3.0</td>\n",
       "    </tr>\n",
       "    <tr>\n",
       "      <th>84</th>\n",
       "      <td>Sainte-Hélène</td>\n",
       "      <td>14025.0</td>\n",
       "      <td>3.0</td>\n",
       "      <td>6.0</td>\n",
       "      <td>4.0</td>\n",
       "      <td>14.0</td>\n",
       "      <td>1.0</td>\n",
       "      <td>937.0</td>\n",
       "      <td>930.0</td>\n",
       "      <td>915.0</td>\n",
       "      <td>2.0</td>\n",
       "    </tr>\n",
       "    <tr>\n",
       "      <th>199</th>\n",
       "      <td>Saint-Tharcisius</td>\n",
       "      <td>7070.0</td>\n",
       "      <td>6.0</td>\n",
       "      <td>4.0</td>\n",
       "      <td>1.0</td>\n",
       "      <td>7.0</td>\n",
       "      <td>1.0</td>\n",
       "      <td>537.0</td>\n",
       "      <td>524.0</td>\n",
       "      <td>513.0</td>\n",
       "      <td>1.0</td>\n",
       "    </tr>\n",
       "    <tr>\n",
       "      <th>60</th>\n",
       "      <td>Saint-Donat</td>\n",
       "      <td>9030.0</td>\n",
       "      <td>13.0</td>\n",
       "      <td>13.0</td>\n",
       "      <td>1.0</td>\n",
       "      <td>9.0</td>\n",
       "      <td>1.0</td>\n",
       "      <td>811.0</td>\n",
       "      <td>800.0</td>\n",
       "      <td>782.0</td>\n",
       "      <td>1.0</td>\n",
       "    </tr>\n",
       "  </tbody>\n",
       "</table>\n",
       "</div>"
      ],
      "text/plain": [
       "                         paroisse     code  naissance  deces  mar   mrc  \\\n",
       "30         Saint-Alexis-des-Monts  51065.0       22.0   15.0  6.0  51.0   \n",
       "172  Saint-Patrice-de-Sherrington  68025.0       18.0   13.0  2.0  68.0   \n",
       "84                  Sainte-Hélène  14025.0        3.0    6.0  4.0  14.0   \n",
       "199              Saint-Tharcisius   7070.0        6.0    4.0  1.0   7.0   \n",
       "60                    Saint-Donat   9030.0       13.0   13.0  1.0   9.0   \n",
       "\n",
       "     region   pop99   pop00   pop01  strate  \n",
       "30      4.0  2823.0  2828.0  2824.0     4.0  \n",
       "172    16.0  1981.0  1998.0  1967.0     3.0  \n",
       "84      1.0   937.0   930.0   915.0     2.0  \n",
       "199     1.0   537.0   524.0   513.0     1.0  \n",
       "60      1.0   811.0   800.0   782.0     1.0  "
      ]
     },
     "execution_count": 5,
     "metadata": {},
     "output_type": "execute_result"
    }
   ],
   "source": [
    "par_sam.head()"
   ]
  },
  {
   "cell_type": "markdown",
   "id": "c04e9aa8",
   "metadata": {},
   "source": [
    "> ### 3.\n",
    "Calculer le $\\pi$-estimateur du total et de la moyenne des naissances."
   ]
  },
  {
   "cell_type": "code",
   "execution_count": 6,
   "metadata": {},
   "outputs": [],
   "source": [
    "N = len(paroisse) # Taille de la population totale\n",
    "n = len(par_sam)\n",
    "total_naissance = par_sam[\"naissance\"].sum() # Somme des nombres de naissances dans l'échantillon\n",
    "T = (N / n) * total_naissance # Notre Pi-Estimateur du total des naissances"
   ]
  },
  {
   "cell_type": "code",
   "execution_count": 7,
   "id": "921d2274",
   "metadata": {},
   "outputs": [],
   "source": [
    "# Calculer le pi-estimateur de la moyenne des naissances\n",
    "moyenne_naissances = par_sam['naissance'].mean()  # Moyenne des nombres de naissances dans l'échantillon\n",
    "M = moyenne_naissances  # Calcul du pi-estimateur de la moyenne"
   ]
  },
  {
   "cell_type": "code",
   "execution_count": 8,
   "id": "4562a02c",
   "metadata": {},
   "outputs": [
    {
     "name": "stdout",
     "output_type": "stream",
     "text": [
      "Pi-estimateur du total des naissances (T) :  2192.4\n",
      "Pi-estimateur de la moyenne des naissances (M) :  10.44\n"
     ]
    }
   ],
   "source": [
    "# Afficher les résultats\n",
    "print(\"Pi-estimateur du total des naissances (T) : \", T)\n",
    "print(\"Pi-estimateur de la moyenne des naissances (M) : \", M)"
   ]
  },
  {
   "cell_type": "markdown",
   "id": "e93e8b88",
   "metadata": {},
   "source": [
    "> ### 3.\n",
    "Refaire le sondage 100 fois, et tracer un graphique ou apparaissent la vraie valeur du total et ses valeurs estimées. Que remarque-t-on?"
   ]
  },
  {
   "cell_type": "code",
   "execution_count": 9,
   "id": "98c512e0",
   "metadata": {},
   "outputs": [
    {
     "name": "stdout",
     "output_type": "stream",
     "text": [
      "Moyenne des valeurs du Pi-estimateur du total :  2503.956\n",
      "Variance du Pi-estimateur du total :  351513.9184000001 \n",
      "\n",
      "Moyenne des valeurs du Pi-estimateur de la moyenne :  11.9236\n",
      "Variance du Pi-estimateur de la moyenne :  7.970837151927438\n"
     ]
    },
    {
     "data": {
      "image/png": "[encoded data removed]",
      "text/plain": [
       "<Figure size 1440x432 with 2 Axes>"
      ]
     },
     "metadata": {
      "needs_background": "light"
     },
     "output_type": "display_data"
    }
   ],
   "source": [
    "n_repetitions = 100\n",
    "taille_echantillon = 25\n",
    "\n",
    "# Stocke les valeurs générées\n",
    "total_estime = np.zeros(n_repetitions)\n",
    "moyenne_estime = np.zeros(n_repetitions)\n",
    "\n",
    "\n",
    "for i in range(n_repetitions):\n",
    "    # Effectuer un nouvel échantillonnage de la dataframe\n",
    "    echantillon = paroisse.sample(n=taille_echantillon, replace=False, random_state=i)\n",
    "    \n",
    "    # Calculer la somme des nombres de naissances dans l'échantillon\n",
    "    total_naissances = echantillon['naissance'].sum()\n",
    "    moyenne_naissances = echantillon['naissance'].mean()\n",
    "    \n",
    "    # Calculer la valeur estimée du total en utilisant le pi-estimateur\n",
    "    total_estime[i] = (len(paroisse) / len(echantillon)) * total_naissances\n",
    "    moyenne_estime[i] = moyenne_naissances\n",
    "\n",
    "# Par ailleurs les vraies valeurs sont :\n",
    "vrai_total = paroisse['naissance'].sum()\n",
    "vrai_moyenne = paroisse[\"naissance\"].mean()\n",
    "\n",
    "# calcul des variances :\n",
    "var_estim_total_pi = ((total_estime - paroisse[\"naissance\"].sum())**2).mean()\n",
    "var_estim_moyenne_pi = ((moyenne_estime - paroisse[\"naissance\"].mean())**2).mean()\n",
    "\n",
    "# Afficher les résultats\n",
    "print(\"Moyenne des valeurs du Pi-estimateur du total : \", total_estime.mean())\n",
    "print(\"Variance du Pi-estimateur du total : \", var_estim_total_pi.mean(),'\\n')\n",
    "print(\"Moyenne des valeurs du Pi-estimateur de la moyenne : \", moyenne_estime.mean())\n",
    "print(\"Variance du Pi-estimateur de la moyenne : \", var_estim_moyenne_pi.mean())\n",
    "\n",
    "# Créer un graphique pour afficher les résultats\n",
    "fig, ax = plt.subplots(1, 2, figsize=(20, 6))\n",
    "ax[0].axhline(y=vrai_total, color='red', linestyle='dashed', label='Vraie valeur du total')  # Vraie valeur du total\n",
    "ax[0].plot(range(1, n_repetitions+1), total_estime, 'o', label='Estimations du total')  # Estimations du total\n",
    "ax[0].set_xlabel('Répétition du sondage')\n",
    "ax[0].set_ylabel('Total estimé')\n",
    "ax[0].set_title('Estimations du total avec le pi-estimateur')\n",
    "ax[0].legend()\n",
    "\n",
    "ax[1].axhline(y=vrai_moyenne, color='red', linestyle='dashed', label='Vraie valeur de la moyenne')  # Vraie valeur du total\n",
    "ax[1].plot(range(1, n_repetitions+1), moyenne_estime, 'o', label='Estimations de la moyenne')  # Estimations de la moyenne\n",
    "ax[1].set_xlabel('Répétition du sondage')\n",
    "ax[1].set_ylabel('Moyenne estimée')\n",
    "ax[1].set_title('Estimations de la moyenne avec le pi-estimateur')\n",
    "ax[1].legend()\n",
    "\n",
    "plt.show()"
   ]
  },
  {
   "cell_type": "markdown",
   "id": "3c96fb25",
   "metadata": {},
   "source": [
    "# Exercice 2 "
   ]
  },
  {
   "cell_type": "markdown",
   "id": "0da8651f",
   "metadata": {},
   "source": [
    "> ### 1. \n",
    "Importer le fichier \"pop.sas7bdat\" dans une dataframe de nom `lib`. Ce fichier contient 1000 réalisations d'une variable y."
   ]
  },
  {
   "cell_type": "code",
   "execution_count": 10,
   "id": "95f26566",
   "metadata": {},
   "outputs": [],
   "source": [
    "lib = pd.read_sas(\"pop.sas7bdat\")"
   ]
  },
  {
   "cell_type": "code",
   "execution_count": 11,
   "id": "1c0381c4",
   "metadata": {},
   "outputs": [
    {
     "data": {
      "text/html": [
       "<div>\n",
       "<style scoped>\n",
       "    .dataframe tbody tr th:only-of-type {\n",
       "        vertical-align: middle;\n",
       "    }\n",
       "\n",
       "    .dataframe tbody tr th {\n",
       "        vertical-align: top;\n",
       "    }\n",
       "\n",
       "    .dataframe thead th {\n",
       "        text-align: right;\n",
       "    }\n",
       "</style>\n",
       "<table border=\"1\" class=\"dataframe\">\n",
       "  <thead>\n",
       "    <tr style=\"text-align: right;\">\n",
       "      <th></th>\n",
       "      <th>i</th>\n",
       "      <th>y</th>\n",
       "    </tr>\n",
       "  </thead>\n",
       "  <tbody>\n",
       "    <tr>\n",
       "      <th>0</th>\n",
       "      <td>1.0</td>\n",
       "      <td>83.631107</td>\n",
       "    </tr>\n",
       "    <tr>\n",
       "      <th>1</th>\n",
       "      <td>2.0</td>\n",
       "      <td>115.620297</td>\n",
       "    </tr>\n",
       "    <tr>\n",
       "      <th>2</th>\n",
       "      <td>3.0</td>\n",
       "      <td>73.585786</td>\n",
       "    </tr>\n",
       "    <tr>\n",
       "      <th>3</th>\n",
       "      <td>4.0</td>\n",
       "      <td>130.878799</td>\n",
       "    </tr>\n",
       "    <tr>\n",
       "      <th>4</th>\n",
       "      <td>5.0</td>\n",
       "      <td>58.350731</td>\n",
       "    </tr>\n",
       "  </tbody>\n",
       "</table>\n",
       "</div>"
      ],
      "text/plain": [
       "     i           y\n",
       "0  1.0   83.631107\n",
       "1  2.0  115.620297\n",
       "2  3.0   73.585786\n",
       "3  4.0  130.878799\n",
       "4  5.0   58.350731"
      ]
     },
     "execution_count": 11,
     "metadata": {},
     "output_type": "execute_result"
    }
   ],
   "source": [
    "lib.head()"
   ]
  },
  {
   "cell_type": "markdown",
   "id": "debd9e6c",
   "metadata": {},
   "source": [
    ">### 2.\n",
    "Vérifier que la moyenne des réalisations est bien 100."
   ]
  },
  {
   "cell_type": "code",
   "execution_count": 12,
   "id": "26675f87",
   "metadata": {},
   "outputs": [
    {
     "data": {
      "text/plain": [
       "100.0000000338361"
      ]
     },
     "execution_count": 12,
     "metadata": {},
     "output_type": "execute_result"
    }
   ],
   "source": [
    "lib[\"y\"].mean()"
   ]
  },
  {
   "attachments": {},
   "cell_type": "markdown",
   "id": "cb5d1fee",
   "metadata": {},
   "source": [
    ">OK"
   ]
  },
  {
   "cell_type": "markdown",
   "id": "cbd94be8",
   "metadata": {},
   "source": [
    ">### 3.\n",
    "Effectuer `100` fois un plan de songade (sans remise et à probabilités égales) de taille `10`. Sauvegarder les moyennes estimées dans une array de nom `estim`."
   ]
  },
  {
   "cell_type": "code",
   "execution_count": 13,
   "id": "c9e71498",
   "metadata": {},
   "outputs": [],
   "source": [
    "nb_sondages = 100\n",
    "taille_echantillon = 10\n",
    "# Notre tableau pour stocker les valeurs estimées\n",
    "estim = np.zeros(n_repetitions)\n",
    "\n",
    "# Réaliser le sondage et calculer les moyennes estimées\n",
    "for i in range(n_repetitions):\n",
    "    # Effectuer un nouvel échantillonnage de la dataframe\n",
    "    echantillon = lib.sample(n=taille_echantillon, replace=False, random_state=i)\n",
    "    \n",
    "    # Calculer la moyenne des valeurs dans l'échantillon\n",
    "    moyenne_estimee = echantillon[\"y\"].mean()\n",
    "    \n",
    "    # Sauvegarder la moyenne estimée dans l'array\n",
    "    estim[i] = moyenne_estimee"
   ]
  },
  {
   "attachments": {},
   "cell_type": "markdown",
   "id": "c45d7b0e",
   "metadata": {},
   "source": [
    ">### 4. \n",
    "\n",
    "On rappelle que l'erreur relative de l'estimation de $m$ par $\\hat m$\n",
    "$$\\frac{\\hat m- m}{|m|}\\, .$$\n",
    "\n",
    "Calculer les erreurs relatives des sondages effectués et tracer la courbe correspondante.\n",
    "On tracera en rouge la ligne horizontale $y=0$."
   ]
  },
  {
   "cell_type": "code",
   "execution_count": 14,
   "id": "b69208d6",
   "metadata": {},
   "outputs": [
    {
     "data": {
      "image/png": "[encoded data removed]",
      "text/plain": [
       "<Figure size 432x288 with 1 Axes>"
      ]
     },
     "metadata": {
      "needs_background": "light"
     },
     "output_type": "display_data"
    }
   ],
   "source": [
    "nb_sondages = 100\n",
    "taille_echantillon = 10\n",
    "# Notre tableau pour stocker les valeurs estimées\n",
    "estim = np.zeros(n_repetitions)\n",
    "\n",
    "# Réaliser le sondage et calculer les moyennes estimées\n",
    "for i in range(n_repetitions):\n",
    "    # Effectuer un nouvel échantillonnage de la dataframe\n",
    "    echantillon = lib.sample(n=taille_echantillon, replace=False, random_state=i)\n",
    "    \n",
    "    # Calculer la moyenne des valeurs dans l'échantillon\n",
    "    moyenne_estimee = echantillon[\"y\"].mean()\n",
    "    \n",
    "    # Sauvegarder la moyenne estimée dans l'array\n",
    "    estim[i] = moyenne_estimee\n",
    "\n",
    "# la vraie valeur de la moyenne\n",
    "moyenne_reelle = lib[\"y\"].mean()\n",
    "\n",
    "# Calculer les erreurs relatives\n",
    "erreurs_relatives = (estim - moyenne_reelle) / np.abs(moyenne_reelle)\n",
    "\n",
    "# Tracer la courbe des erreurs relatives\n",
    "plt.plot(erreurs_relatives, 'o')\n",
    "plt.axhline(y=0, color='red')  # Ligne horizontale en rouge à y=0\n",
    "plt.xlabel('Répétition du sondage')\n",
    "plt.ylabel('Erreur relative')\n",
    "plt.title('Erreurs relatives des estimations de la moyenne')\n",
    "plt.show()"
   ]
  },
  {
   "cell_type": "markdown",
   "id": "dad90a4c",
   "metadata": {},
   "source": [
    ">### 5.\n",
    "Calculer la moyenne des moyennes des 100 echantillons. Comparer à la vraie moyenne."
   ]
  },
  {
   "cell_type": "code",
   "execution_count": 15,
   "id": "2852744f",
   "metadata": {},
   "outputs": [
    {
     "name": "stdout",
     "output_type": "stream",
     "text": [
      "On obtient comme moyenne des moyennes 99.8186680705952 par rapport à la vraie moyenne : 100.0000000338361\n"
     ]
    }
   ],
   "source": [
    "# On a comme moyenne :\n",
    "moyenne_moyenne = estim.mean()\n",
    "\n",
    "print(\"On obtient comme moyenne des moyennes \" + str(moyenne_moyenne) + \" par rapport à la vraie moyenne : \" + str(moyenne_reelle))"
   ]
  },
  {
   "cell_type": "markdown",
   "id": "d94eae9d",
   "metadata": {},
   "source": [
    ">### 6. \n",
    "On veut maintenant estimer la variance de notre estimateur. Calculer sa variance empirique en se rappelant que la vraie moyenne est de `100`.\n",
    "\n",
    ">Commenter."
   ]
  },
  {
   "cell_type": "code",
   "execution_count": 16,
   "id": "d81e73ef",
   "metadata": {},
   "outputs": [
    {
     "name": "stdout",
     "output_type": "stream",
     "text": [
      "Variance empirique de l'estimateur : 117.2282861258711\n"
     ]
    }
   ],
   "source": [
    "moyenne_reelle = 100\n",
    "\n",
    "# Calculer les écarts entre les estimations et la vraie valeur\n",
    "ecarts = estim - moyenne_reelle\n",
    "\n",
    "# Calculer les carrés des écarts\n",
    "carres_ecarts = np.square(ecarts)\n",
    "\n",
    "# Variance empirique\n",
    "variance_empirique = np.mean(carres_ecarts)\n",
    "\n",
    "# Afficher la variance empirique\n",
    "print(\"Variance empirique de l'estimateur :\", variance_empirique)"
   ]
  },
  {
   "attachments": {},
   "cell_type": "markdown",
   "id": "f2c3c335",
   "metadata": {},
   "source": [
    ">Pour une vraie valeur de moyenne de 100, ici une variance de 117 parait beaucoup. Cet estimateur n'est pas très performant..."
   ]
  },
  {
   "cell_type": "markdown",
   "id": "278a6d8f",
   "metadata": {},
   "source": [
    ">### 7.\n",
    "Refaire l'expérience précédente pour des valeurs croissantes de la taille du sondage. Que remarque-t-on?"
   ]
  },
  {
   "cell_type": "code",
   "execution_count": 17,
   "id": "dd7b726b",
   "metadata": {},
   "outputs": [
    {
     "data": {
      "image/png": "[encoded data removed]",
      "text/plain": [
       "<Figure size 432x288 with 1 Axes>"
      ]
     },
     "metadata": {
      "needs_background": "light"
     },
     "output_type": "display_data"
    }
   ],
   "source": [
    "nb_sondages = 100\n",
    "tailles_echantillon = np.arange(10, 101, 10)  # Tailles de l'échantillon allant de 10 à 100 avec un pas de 10\n",
    "\n",
    "# Liste pour sauvegarder les variances empiriques\n",
    "variances_empiriques = []\n",
    "\n",
    "for taille_echantillon in tailles_echantillon:\n",
    "    # Les valeurs estimées\n",
    "    estim = np.zeros(nb_sondages)\n",
    "    \n",
    "    for i in range(nb_sondages):\n",
    "        # Effectuer un nouvel échantillonnage de la dataframe\n",
    "        echantillon = lib.sample(n=taille_echantillon, replace=False)\n",
    "        \n",
    "        # Calculer la moyenne des valeurs dans l'échantillon\n",
    "        estim[i] = echantillon[\"y\"].mean()\n",
    "    \n",
    "    # Calculer les écarts entre les estimations et la vraie valeur\n",
    "    ecarts = estim - moyenne_reelle\n",
    "    \n",
    "    # Calculer les carrés des écarts\n",
    "    carres_ecarts = np.square(ecarts)\n",
    "    \n",
    "    # Calculer la variance empirique\n",
    "    variance_empirique = np.mean(carres_ecarts)\n",
    "    \n",
    "    # On save le résultat\n",
    "    variances_empiriques.append(variance_empirique)\n",
    "\n",
    "# Convertir la liste en array numpy\n",
    "variances_empiriques = np.array(variances_empiriques)\n",
    "\n",
    "# Tracer le graphique des variances empiriques en fonction de la taille de l'échantillon\n",
    "plt.plot(tailles_echantillon, variances_empiriques)\n",
    "plt.xlabel('Taille de l\\'échantillon')\n",
    "plt.ylabel('Variance empirique')\n",
    "plt.title('Variance empirique en fonction de la taille de l\\'échantillon')\n",
    "plt.show()"
   ]
  },
  {
   "attachments": {},
   "cell_type": "markdown",
   "id": "7b3f5dd0",
   "metadata": {},
   "source": [
    ">On remarque que la variance empirique diminue à mesure que la taille de l'échantillon augmente. ce qui est logique, car la variance de l'estimateur est inversement proportionnelle à la taille de l'échantillon. Cela signifie que plus nous avons de données dans notre échantillon, plus notre estimation de la moyenne sera précise. Logique aussi puisque si on a tout le dataset comme echantillon on a directement accès à la bonne estimation donc variace nulle."
   ]
  },
  {
   "cell_type": "markdown",
   "id": "5bb7c25f",
   "metadata": {},
   "source": [
    "## Exercice 3 : plan de sondage stratifié\n",
    "\n",
    "L’objectif de cet exercice est de réaliser un plan de sondage stratifié et de faire ensuite une estimation par le\n",
    "$\\pi$-estimateur.\n",
    "\n",
    "On travaillera sur la dataframe `paroisse` de l'exercice 1."
   ]
  },
  {
   "cell_type": "markdown",
   "id": "2f0238b4",
   "metadata": {},
   "source": [
    ">### 1.\n",
    "Que font les commandes suivantes? "
   ]
  },
  {
   "cell_type": "code",
   "execution_count": 18,
   "id": "82989390",
   "metadata": {},
   "outputs": [
    {
     "data": {
      "text/plain": [
       "strate\n",
       "1.0    105\n",
       "2.0     63\n",
       "3.0     21\n",
       "4.0     21\n",
       "dtype: int64"
      ]
     },
     "execution_count": 18,
     "metadata": {},
     "output_type": "execute_result"
    }
   ],
   "source": [
    "paroisse.groupby(\"strate\", group_keys=False).size()"
   ]
  },
  {
   "cell_type": "code",
   "execution_count": 19,
   "id": "76324071",
   "metadata": {},
   "outputs": [
    {
     "data": {
      "text/html": [
       "<div>\n",
       "<style scoped>\n",
       "    .dataframe tbody tr th:only-of-type {\n",
       "        vertical-align: middle;\n",
       "    }\n",
       "\n",
       "    .dataframe tbody tr th {\n",
       "        vertical-align: top;\n",
       "    }\n",
       "\n",
       "    .dataframe thead th {\n",
       "        text-align: right;\n",
       "    }\n",
       "</style>\n",
       "<table border=\"1\" class=\"dataframe\">\n",
       "  <thead>\n",
       "    <tr style=\"text-align: right;\">\n",
       "      <th></th>\n",
       "      <th>paroisse</th>\n",
       "      <th>code</th>\n",
       "      <th>naissance</th>\n",
       "      <th>deces</th>\n",
       "      <th>mar</th>\n",
       "      <th>mrc</th>\n",
       "      <th>region</th>\n",
       "      <th>pop99</th>\n",
       "      <th>pop00</th>\n",
       "      <th>pop01</th>\n",
       "      <th>strate</th>\n",
       "    </tr>\n",
       "  </thead>\n",
       "  <tbody>\n",
       "    <tr>\n",
       "      <th>99</th>\n",
       "      <td>Sainte-Sabine</td>\n",
       "      <td>28065.0</td>\n",
       "      <td>1.0</td>\n",
       "      <td>6.0</td>\n",
       "      <td>0.0</td>\n",
       "      <td>28.0</td>\n",
       "      <td>12.0</td>\n",
       "      <td>424.0</td>\n",
       "      <td>426.0</td>\n",
       "      <td>408.0</td>\n",
       "      <td>1.0</td>\n",
       "    </tr>\n",
       "    <tr>\n",
       "      <th>98</th>\n",
       "      <td>Sainte-Rose-du-Nord</td>\n",
       "      <td>94030.0</td>\n",
       "      <td>2.0</td>\n",
       "      <td>0.0</td>\n",
       "      <td>5.0</td>\n",
       "      <td>94.0</td>\n",
       "      <td>2.0</td>\n",
       "      <td>422.0</td>\n",
       "      <td>408.0</td>\n",
       "      <td>416.0</td>\n",
       "      <td>1.0</td>\n",
       "    </tr>\n",
       "    <tr>\n",
       "      <th>68</th>\n",
       "      <td>Sainte-Barbe</td>\n",
       "      <td>69065.0</td>\n",
       "      <td>16.0</td>\n",
       "      <td>5.0</td>\n",
       "      <td>2.0</td>\n",
       "      <td>69.0</td>\n",
       "      <td>16.0</td>\n",
       "      <td>1301.0</td>\n",
       "      <td>1316.0</td>\n",
       "      <td>1324.0</td>\n",
       "      <td>2.0</td>\n",
       "    </tr>\n",
       "    <tr>\n",
       "      <th>96</th>\n",
       "      <td>Sainte-Marie-Salomé</td>\n",
       "      <td>63005.0</td>\n",
       "      <td>13.0</td>\n",
       "      <td>6.0</td>\n",
       "      <td>1.0</td>\n",
       "      <td>63.0</td>\n",
       "      <td>14.0</td>\n",
       "      <td>1212.0</td>\n",
       "      <td>1237.0</td>\n",
       "      <td>1256.0</td>\n",
       "      <td>2.0</td>\n",
       "    </tr>\n",
       "    <tr>\n",
       "      <th>83</th>\n",
       "      <td>Sainte-Geneviève-de-Berthier</td>\n",
       "      <td>52040.0</td>\n",
       "      <td>2.0</td>\n",
       "      <td>1.0</td>\n",
       "      <td>0.0</td>\n",
       "      <td>52.0</td>\n",
       "      <td>14.0</td>\n",
       "      <td>2490.0</td>\n",
       "      <td>2471.0</td>\n",
       "      <td>2466.0</td>\n",
       "      <td>3.0</td>\n",
       "    </tr>\n",
       "    <tr>\n",
       "      <th>157</th>\n",
       "      <td>Saint-Michel</td>\n",
       "      <td>68050.0</td>\n",
       "      <td>30.0</td>\n",
       "      <td>17.0</td>\n",
       "      <td>8.0</td>\n",
       "      <td>68.0</td>\n",
       "      <td>16.0</td>\n",
       "      <td>2601.0</td>\n",
       "      <td>2604.0</td>\n",
       "      <td>2619.0</td>\n",
       "      <td>3.0</td>\n",
       "    </tr>\n",
       "    <tr>\n",
       "      <th>7</th>\n",
       "      <td>L'Ange-Gardien</td>\n",
       "      <td>21040.0</td>\n",
       "      <td>36.0</td>\n",
       "      <td>11.0</td>\n",
       "      <td>2.0</td>\n",
       "      <td>21.0</td>\n",
       "      <td>3.0</td>\n",
       "      <td>2858.0</td>\n",
       "      <td>2844.0</td>\n",
       "      <td>2888.0</td>\n",
       "      <td>4.0</td>\n",
       "    </tr>\n",
       "    <tr>\n",
       "      <th>140</th>\n",
       "      <td>Saint-Lambert-de-Lauzon</td>\n",
       "      <td>25005.0</td>\n",
       "      <td>52.0</td>\n",
       "      <td>20.0</td>\n",
       "      <td>5.0</td>\n",
       "      <td>26.0</td>\n",
       "      <td>12.0</td>\n",
       "      <td>4779.0</td>\n",
       "      <td>4847.0</td>\n",
       "      <td>4904.0</td>\n",
       "      <td>4.0</td>\n",
       "    </tr>\n",
       "  </tbody>\n",
       "</table>\n",
       "</div>"
      ],
      "text/plain": [
       "                         paroisse     code  naissance  deces  mar   mrc  \\\n",
       "99                  Sainte-Sabine  28065.0        1.0    6.0  0.0  28.0   \n",
       "98            Sainte-Rose-du-Nord  94030.0        2.0    0.0  5.0  94.0   \n",
       "68                   Sainte-Barbe  69065.0       16.0    5.0  2.0  69.0   \n",
       "96            Sainte-Marie-Salomé  63005.0       13.0    6.0  1.0  63.0   \n",
       "83   Sainte-Geneviève-de-Berthier  52040.0        2.0    1.0  0.0  52.0   \n",
       "157                  Saint-Michel  68050.0       30.0   17.0  8.0  68.0   \n",
       "7                  L'Ange-Gardien  21040.0       36.0   11.0  2.0  21.0   \n",
       "140       Saint-Lambert-de-Lauzon  25005.0       52.0   20.0  5.0  26.0   \n",
       "\n",
       "     region   pop99   pop00   pop01  strate  \n",
       "99     12.0   424.0   426.0   408.0     1.0  \n",
       "98      2.0   422.0   408.0   416.0     1.0  \n",
       "68     16.0  1301.0  1316.0  1324.0     2.0  \n",
       "96     14.0  1212.0  1237.0  1256.0     2.0  \n",
       "83     14.0  2490.0  2471.0  2466.0     3.0  \n",
       "157    16.0  2601.0  2604.0  2619.0     3.0  \n",
       "7       3.0  2858.0  2844.0  2888.0     4.0  \n",
       "140    12.0  4779.0  4847.0  4904.0     4.0  "
      ]
     },
     "execution_count": 19,
     "metadata": {},
     "output_type": "execute_result"
    }
   ],
   "source": [
    "paroisse.groupby(\"strate\", group_keys=False).apply(lambda x: x.sample(2))"
   ]
  },
  {
   "cell_type": "code",
   "execution_count": 20,
   "id": "bacaa9da",
   "metadata": {},
   "outputs": [
    {
     "data": {
      "text/html": [
       "<div>\n",
       "<style scoped>\n",
       "    .dataframe tbody tr th:only-of-type {\n",
       "        vertical-align: middle;\n",
       "    }\n",
       "\n",
       "    .dataframe tbody tr th {\n",
       "        vertical-align: top;\n",
       "    }\n",
       "\n",
       "    .dataframe thead th {\n",
       "        text-align: right;\n",
       "    }\n",
       "</style>\n",
       "<table border=\"1\" class=\"dataframe\">\n",
       "  <thead>\n",
       "    <tr style=\"text-align: right;\">\n",
       "      <th></th>\n",
       "      <th>paroisse</th>\n",
       "      <th>code</th>\n",
       "      <th>naissance</th>\n",
       "      <th>deces</th>\n",
       "      <th>mar</th>\n",
       "      <th>mrc</th>\n",
       "      <th>region</th>\n",
       "      <th>pop99</th>\n",
       "      <th>pop00</th>\n",
       "      <th>pop01</th>\n",
       "      <th>strate</th>\n",
       "    </tr>\n",
       "  </thead>\n",
       "  <tbody>\n",
       "    <tr>\n",
       "      <th>39</th>\n",
       "      <td>Saint-Augustin-de-Woburn</td>\n",
       "      <td>30005.0</td>\n",
       "      <td>9.0</td>\n",
       "      <td>0.0</td>\n",
       "      <td>0.0</td>\n",
       "      <td>30.0</td>\n",
       "      <td>5.0</td>\n",
       "      <td>745.0</td>\n",
       "      <td>719.0</td>\n",
       "      <td>717.0</td>\n",
       "      <td>1.0</td>\n",
       "    </tr>\n",
       "    <tr>\n",
       "      <th>118</th>\n",
       "      <td>Saint-Germain</td>\n",
       "      <td>14045.0</td>\n",
       "      <td>3.0</td>\n",
       "      <td>1.0</td>\n",
       "      <td>1.0</td>\n",
       "      <td>14.0</td>\n",
       "      <td>1.0</td>\n",
       "      <td>296.0</td>\n",
       "      <td>290.0</td>\n",
       "      <td>291.0</td>\n",
       "      <td>1.0</td>\n",
       "    </tr>\n",
       "    <tr>\n",
       "      <th>147</th>\n",
       "      <td>Saint-Louis-de-Gonzague-du-Cap-Tourmente</td>\n",
       "      <td>21015.0</td>\n",
       "      <td>0.0</td>\n",
       "      <td>0.0</td>\n",
       "      <td>1.0</td>\n",
       "      <td>21.0</td>\n",
       "      <td>3.0</td>\n",
       "      <td>4.0</td>\n",
       "      <td>4.0</td>\n",
       "      <td>4.0</td>\n",
       "      <td>1.0</td>\n",
       "    </tr>\n",
       "    <tr>\n",
       "      <th>101</th>\n",
       "      <td>Sainte-Sophie-de-Lévrard</td>\n",
       "      <td>38040.0</td>\n",
       "      <td>13.0</td>\n",
       "      <td>6.0</td>\n",
       "      <td>0.0</td>\n",
       "      <td>38.0</td>\n",
       "      <td>17.0</td>\n",
       "      <td>810.0</td>\n",
       "      <td>829.0</td>\n",
       "      <td>807.0</td>\n",
       "      <td>1.0</td>\n",
       "    </tr>\n",
       "    <tr>\n",
       "      <th>14</th>\n",
       "      <td>Notre-Dame-de-Lourdes</td>\n",
       "      <td>32080.0</td>\n",
       "      <td>7.0</td>\n",
       "      <td>3.0</td>\n",
       "      <td>0.0</td>\n",
       "      <td>32.0</td>\n",
       "      <td>17.0</td>\n",
       "      <td>731.0</td>\n",
       "      <td>710.0</td>\n",
       "      <td>713.0</td>\n",
       "      <td>1.0</td>\n",
       "    </tr>\n",
       "    <tr>\n",
       "      <th>...</th>\n",
       "      <td>...</td>\n",
       "      <td>...</td>\n",
       "      <td>...</td>\n",
       "      <td>...</td>\n",
       "      <td>...</td>\n",
       "      <td>...</td>\n",
       "      <td>...</td>\n",
       "      <td>...</td>\n",
       "      <td>...</td>\n",
       "      <td>...</td>\n",
       "      <td>...</td>\n",
       "    </tr>\n",
       "    <tr>\n",
       "      <th>134</th>\n",
       "      <td>Saint-Joseph-de-Beauce</td>\n",
       "      <td>27040.0</td>\n",
       "      <td>11.0</td>\n",
       "      <td>8.0</td>\n",
       "      <td>1.0</td>\n",
       "      <td>27.0</td>\n",
       "      <td>12.0</td>\n",
       "      <td>4456.0</td>\n",
       "      <td>4431.0</td>\n",
       "      <td>4478.0</td>\n",
       "      <td>4.0</td>\n",
       "    </tr>\n",
       "    <tr>\n",
       "      <th>65</th>\n",
       "      <td>Sainte-Anne-de-Sorel</td>\n",
       "      <td>53065.0</td>\n",
       "      <td>15.0</td>\n",
       "      <td>16.0</td>\n",
       "      <td>6.0</td>\n",
       "      <td>53.0</td>\n",
       "      <td>16.0</td>\n",
       "      <td>2774.0</td>\n",
       "      <td>2749.0</td>\n",
       "      <td>2730.0</td>\n",
       "      <td>4.0</td>\n",
       "    </tr>\n",
       "    <tr>\n",
       "      <th>124</th>\n",
       "      <td>Saint-Honoré</td>\n",
       "      <td>29040.0</td>\n",
       "      <td>24.0</td>\n",
       "      <td>5.0</td>\n",
       "      <td>4.0</td>\n",
       "      <td>94.0</td>\n",
       "      <td>2.0</td>\n",
       "      <td>3886.0</td>\n",
       "      <td>3864.0</td>\n",
       "      <td>3840.0</td>\n",
       "      <td>4.0</td>\n",
       "    </tr>\n",
       "    <tr>\n",
       "      <th>31</th>\n",
       "      <td>Saint-Ambroise-de-Kildare</td>\n",
       "      <td>61040.0</td>\n",
       "      <td>31.0</td>\n",
       "      <td>12.0</td>\n",
       "      <td>7.0</td>\n",
       "      <td>61.0</td>\n",
       "      <td>14.0</td>\n",
       "      <td>3498.0</td>\n",
       "      <td>3473.0</td>\n",
       "      <td>3497.0</td>\n",
       "      <td>4.0</td>\n",
       "    </tr>\n",
       "    <tr>\n",
       "      <th>33</th>\n",
       "      <td>Saint-André-d'Argenteuil</td>\n",
       "      <td>76015.0</td>\n",
       "      <td>1.0</td>\n",
       "      <td>1.0</td>\n",
       "      <td>0.0</td>\n",
       "      <td>76.0</td>\n",
       "      <td>15.0</td>\n",
       "      <td>2896.0</td>\n",
       "      <td>2907.0</td>\n",
       "      <td>2946.0</td>\n",
       "      <td>4.0</td>\n",
       "    </tr>\n",
       "  </tbody>\n",
       "</table>\n",
       "<p>63 rows × 11 columns</p>\n",
       "</div>"
      ],
      "text/plain": [
       "                                     paroisse     code  naissance  deces  mar  \\\n",
       "39                   Saint-Augustin-de-Woburn  30005.0        9.0    0.0  0.0   \n",
       "118                             Saint-Germain  14045.0        3.0    1.0  1.0   \n",
       "147  Saint-Louis-de-Gonzague-du-Cap-Tourmente  21015.0        0.0    0.0  1.0   \n",
       "101                  Sainte-Sophie-de-Lévrard  38040.0       13.0    6.0  0.0   \n",
       "14                      Notre-Dame-de-Lourdes  32080.0        7.0    3.0  0.0   \n",
       "..                                        ...      ...        ...    ...  ...   \n",
       "134                    Saint-Joseph-de-Beauce  27040.0       11.0    8.0  1.0   \n",
       "65                       Sainte-Anne-de-Sorel  53065.0       15.0   16.0  6.0   \n",
       "124                              Saint-Honoré  29040.0       24.0    5.0  4.0   \n",
       "31                  Saint-Ambroise-de-Kildare  61040.0       31.0   12.0  7.0   \n",
       "33                   Saint-André-d'Argenteuil  76015.0        1.0    1.0  0.0   \n",
       "\n",
       "      mrc  region   pop99   pop00   pop01  strate  \n",
       "39   30.0     5.0   745.0   719.0   717.0     1.0  \n",
       "118  14.0     1.0   296.0   290.0   291.0     1.0  \n",
       "147  21.0     3.0     4.0     4.0     4.0     1.0  \n",
       "101  38.0    17.0   810.0   829.0   807.0     1.0  \n",
       "14   32.0    17.0   731.0   710.0   713.0     1.0  \n",
       "..    ...     ...     ...     ...     ...     ...  \n",
       "134  27.0    12.0  4456.0  4431.0  4478.0     4.0  \n",
       "65   53.0    16.0  2774.0  2749.0  2730.0     4.0  \n",
       "124  94.0     2.0  3886.0  3864.0  3840.0     4.0  \n",
       "31   61.0    14.0  3498.0  3473.0  3497.0     4.0  \n",
       "33   76.0    15.0  2896.0  2907.0  2946.0     4.0  \n",
       "\n",
       "[63 rows x 11 columns]"
      ]
     },
     "execution_count": 20,
     "metadata": {},
     "output_type": "execute_result"
    }
   ],
   "source": [
    "paroisse.groupby(\"strate\", group_keys=False).apply(lambda x: x.sample(frac=0.3))"
   ]
  },
  {
   "attachments": {},
   "cell_type": "markdown",
   "id": "9b741a00",
   "metadata": {},
   "source": [
    "- `paroisse.groupby(\"strate\", group_keys=False).size()` : Cette commande groupe les données par element de la colonne \"strate\", et calcule la taille de chaque groupe en utilisant la fonction size(). L'option group_keys=False permet de ne pas inclure les clés de groupe dans le résultat.\n",
    "\n",
    "- `paroisse.groupby(\"strate\", group_keys=False).apply(lambda x: x.sample(2))` : Cette commande groupe les données par élément dans la colonne \"strate\", puis applique la fonction sample(2) à chaque groupe. La fonction sample(2) sélectionne aléatoirement 2 éléments dans chaque groupe. Le résultat sera une nouvelle dataframe qui contiendra 2 échantillons aléatoires de chaque groupe.\n",
    "\n",
    "- `paroisse.groupby(\"strate\", group_keys=False).apply(lambda x: x.sample(frac=0.3))`: Cette commande groupe les données par élément dans la colonne \"strate\", puis applique la fonction sample(frac=0.3) à chaque groupe. La fonction sample(frac=0.3) sélectionne aléatoirement 30% des éléments dans chaque groupe. Le résultat sera une nouvelle dataframe qui contiendra 30% des éléments aléatoires de chaque groupe."
   ]
  },
  {
   "cell_type": "markdown",
   "id": "3e223a36",
   "metadata": {},
   "source": [
    ">### 2. \n",
    "Completer le code suivant pour sélectionner un échantillon de `(5, 8, 5, 7)` individus dans les 4 strates."
   ]
  },
  {
   "cell_type": "code",
   "execution_count": 21,
   "id": "aa391d8b",
   "metadata": {},
   "outputs": [
    {
     "name": "stdout",
     "output_type": "stream",
     "text": [
      "                        paroisse     code  naissance  deces   mar   mrc  \\\n",
      "0          Saint-Roch-de-Mékinac  35045.0        4.0    4.0   1.0  35.0   \n",
      "1         Saint-Marc-du-Lac-Long  13020.0        6.0    4.0   4.0  13.0   \n",
      "2                     Saint-Aimé  53015.0       12.0    8.0   1.0  53.0   \n",
      "3     Saint-Joseph-de-Kamouraska  14030.0        5.0    4.0   1.0  14.0   \n",
      "4                  Saint-Gilbert  34060.0        2.0    3.0   0.0  34.0   \n",
      "5    Sainte-Anne-de-la-Pocatière  14090.0        1.0    0.0   0.0  14.0   \n",
      "6                  Saint-Barnabé  51025.0        6.0    4.0   0.0  51.0   \n",
      "7                   Saint-Urbain  16055.0        8.0   13.0   3.0  16.0   \n",
      "8     Saint-Narcisse-de-Rimouski  10015.0       11.0    5.0   1.0  10.0   \n",
      "9                   Sainte-Barbe  69065.0       16.0    5.0   2.0  69.0   \n",
      "10                  Saint-Fabien  10070.0       21.0   14.0   3.0  10.0   \n",
      "11                 Saint-Joachim  21020.0       16.0    8.0   3.0  21.0   \n",
      "12          Sainte-Anne-du-Sault  39150.0        3.0    2.0   0.0  39.0   \n",
      "13      Sainte-Anne-de-Sabrevois  56060.0       23.0   12.0   4.0  56.0   \n",
      "14  Sainte-Geneviève-de-Berthier  52040.0        2.0    1.0   0.0  52.0   \n",
      "15  Saint-Paul-de-l'île-aux-Noix  56035.0       15.0   13.0   3.0  56.0   \n",
      "16        Sainte-Marie-Madeleine  54030.0        2.0    0.0   0.0  54.0   \n",
      "17          Sainte-Anne-des-Lacs  77035.0       17.0   10.0   4.0  77.0   \n",
      "18       Saint-Paul-d'Abbotsford  55015.0       21.0   12.0  10.0  55.0   \n",
      "19                  Saint-Lazare  71105.0      152.0   32.0  14.0  71.0   \n",
      "20                  Saint-Martin  29045.0       17.0   10.0   3.0  29.0   \n",
      "21                 Saint-Sulpice  60020.0       49.0    9.0  10.0  60.0   \n",
      "22        Saint-Alexis-des-Monts  51065.0       22.0   15.0   6.0  51.0   \n",
      "23                L'Ange-Gardien  21040.0       36.0   11.0   2.0  21.0   \n",
      "24      Saint-André-d'Argenteuil  76015.0        1.0    1.0   0.0  76.0   \n",
      "\n",
      "    region    pop99    pop00    pop01  strate  \n",
      "0      4.0    303.0    302.0    307.0     1.0  \n",
      "1      1.0    469.0    471.0    469.0     1.0  \n",
      "2     16.0    562.0    561.0    558.0     1.0  \n",
      "3      1.0    390.0    403.0    403.0     1.0  \n",
      "4      3.0    319.0    315.0    316.0     1.0  \n",
      "5      1.0   1918.0   1903.0   1870.0     2.0  \n",
      "6      4.0   1337.0   1369.0   1346.0     2.0  \n",
      "7      3.0   1524.0   1502.0   1484.0     2.0  \n",
      "8      1.0   1021.0   1013.0   1000.0     2.0  \n",
      "9     16.0   1301.0   1316.0   1324.0     2.0  \n",
      "10     1.0   1886.0   1858.0   1877.0     2.0  \n",
      "11     3.0   1521.0   1522.0   1517.0     2.0  \n",
      "12    17.0   1396.0   1384.0   1384.0     2.0  \n",
      "13    16.0   1972.0   1940.0   1946.0     3.0  \n",
      "14    14.0   2490.0   2471.0   2466.0     3.0  \n",
      "15    16.0   1927.0   1969.0   1966.0     3.0  \n",
      "16    16.0   2348.0   2359.0   2367.0     3.0  \n",
      "17    15.0   2592.0   2616.0   2696.0     3.0  \n",
      "18    16.0   2841.0   2812.0   2863.0     4.0  \n",
      "19    16.0  12832.0  13348.0  13844.0     4.0  \n",
      "20    12.0   2645.0   2613.0   2604.0     4.0  \n",
      "21    14.0   3448.0   3486.0   3444.0     4.0  \n",
      "22     4.0   2823.0   2828.0   2824.0     4.0  \n",
      "23     3.0   2858.0   2844.0   2888.0     4.0  \n",
      "24    15.0   2896.0   2907.0   2946.0     4.0  \n"
     ]
    }
   ],
   "source": [
    "# Définir les tailles d'échantillon pour chaque strate\n",
    "taille_echantillon_strates = pd.Series([5, 8, 5, 7], index=[1., 2., 3., 4.])\n",
    "\n",
    "# Effectuer le sondage stratifié\n",
    "echantillon_stratifie = paroisse.groupby('strate').apply(lambda x: x.sample(taille_echantillon_strates[x.name]))\n",
    "\n",
    "# Réinitialiser l'index du DataFrame résultant\n",
    "echantillon_stratifie = echantillon_stratifie.reset_index(drop=True)\n",
    "\n",
    "# Afficher l'échantillon stratifié résultant\n",
    "print(echantillon_stratifie)"
   ]
  },
  {
   "cell_type": "markdown",
   "id": "6cb5cda4",
   "metadata": {},
   "source": [
    ">### 4. \n",
    "Calculer les probabilités d'inclusions et les poids d'échnatillonage pour chaque strate."
   ]
  },
  {
   "cell_type": "code",
   "execution_count": 22,
   "id": "83118902",
   "metadata": {},
   "outputs": [
    {
     "name": "stdout",
     "output_type": "stream",
     "text": [
      "Probabilités d'inclusion dans chaque strate :\n",
      "1.0    0.047619\n",
      "2.0    0.126984\n",
      "3.0    0.238095\n",
      "4.0    0.333333\n",
      "dtype: float64\n",
      "\n",
      "\n",
      "Poids d'échantillonnage dans chaque strate :\n",
      "1.0    21.000\n",
      "2.0     7.875\n",
      "3.0     4.200\n",
      "4.0     3.000\n",
      "dtype: float64\n"
     ]
    }
   ],
   "source": [
    "# Calcul des probabilités d'inclusion pour chaque strate\n",
    "probabilites_inclusion = taille_echantillon_strates / paroisse.groupby(\"strate\").size()\n",
    "\n",
    "# Calcul des poids d'échantillonnage pour chaque strate\n",
    "poids_echantillonnage = (1 / probabilites_inclusion)\n",
    "\n",
    "# Afficher les résultats\n",
    "print(\"Probabilités d'inclusion dans chaque strate :\")\n",
    "print(probabilites_inclusion)\n",
    "print(\"\\n\")\n",
    "print(\"Poids d'échantillonnage dans chaque strate :\")\n",
    "print(poids_echantillonnage)"
   ]
  },
  {
   "attachments": {},
   "cell_type": "markdown",
   "id": "86901bf8",
   "metadata": {},
   "source": [
    "> ### 5. \n",
    "Calculer les $\\pi$-estimateurs de la moyenne et du total. On effectuera $100$ fois l'expérience. Comparer ces résultats avec ceux de l'exercice 1."
   ]
  },
  {
   "cell_type": "code",
   "execution_count": 23,
   "id": "03378161",
   "metadata": {},
   "outputs": [
    {
     "name": "stdout",
     "output_type": "stream",
     "text": [
      "Moyenne des valeurs du Pi-estimateur du total :  2657.33175\n",
      "Variance du Pi-estimateur du total :  191580.10481874994 \n",
      "\n",
      "Moyenne des valeurs du Pi-estimateur de la moyenne :  12.653960714285715\n",
      "Variance du Pi-estimateur de la moyenne :  4.344220063917233\n"
     ]
    },
    {
     "data": {
      "image/png": "[encoded data removed]",
      "text/plain": [
       "<Figure size 1440x432 with 2 Axes>"
      ]
     },
     "metadata": {
      "needs_background": "light"
     },
     "output_type": "display_data"
    }
   ],
   "source": [
    "nb_repetitions = 100 \n",
    "estim_moyenne_pi = np.zeros(nb_repetitions)\n",
    "estim_total_pi = np.zeros(nb_repetitions)\n",
    "\n",
    "for i in range(nb_repetitions):\n",
    "    # Effectuer le sondage stratifié\n",
    "    echantillon_stratifie = paroisse.groupby('strate').apply(lambda x: x.sample(taille_echantillon_strates[x.name]))\n",
    "    echantillon_stratifie = echantillon_stratifie.reset_index(drop=True)\n",
    "    \n",
    "    # Calculer l'estimation de la moyenne par pi-estimation\n",
    "    estim_moyenne_pi[i] = (echantillon_stratifie.groupby(\"strate\").sum()[\"naissance\"] * poids_echantillonnage).sum() / len(paroisse)\n",
    "    \n",
    "    # Calculer l'estimation du total par pi-estimation\n",
    "    estim_total_pi[i] = (echantillon_stratifie.groupby(\"strate\").sum()[\"naissance\"] * poids_echantillonnage).sum()\n",
    "\n",
    "# calcul des variances :\n",
    "var_estim_total_pi = ((estim_total_pi - paroisse[\"naissance\"].sum())**2).mean()\n",
    "var_estim_moyenne_pi = ((estim_moyenne_pi - paroisse[\"naissance\"].mean())**2).mean()\n",
    "\n",
    "# Afficher les résultats\n",
    "print(\"Moyenne des valeurs du Pi-estimateur du total : \", estim_total_pi.mean())\n",
    "print(\"Variance du Pi-estimateur du total : \", var_estim_total_pi.mean(),'\\n')\n",
    "print(\"Moyenne des valeurs du Pi-estimateur de la moyenne : \", estim_moyenne_pi.mean())\n",
    "print(\"Variance du Pi-estimateur de la moyenne : \", var_estim_moyenne_pi.mean())\n",
    "\n",
    "# Créer un graphique pour afficher les résultats\n",
    "fig, ax = plt.subplots(1, 2, figsize=(20, 6))\n",
    "ax[0].axhline(y=vrai_total, color='red', linestyle='dashed', label='Vraie valeur du total')  # Vraie valeur du total\n",
    "ax[0].plot(range(1, n_repetitions+1), estim_total_pi, 'o', label='Estimations du total')  # Estimations du total\n",
    "ax[0].set_xlabel('Répétition du sondage')\n",
    "ax[0].set_ylabel('Total estimé')\n",
    "ax[0].set_title('Estimations du total avec le pi-estimateur')\n",
    "ax[0].legend()\n",
    "\n",
    "ax[1].axhline(y=vrai_moyenne, color='red', linestyle='dashed', label='Vraie valeur de la moyenne')  # Vraie valeur du total\n",
    "ax[1].plot(range(1, n_repetitions+1), estim_moyenne_pi, 'o', label='Estimations de la moyenne')  # Estimations de la moyenne\n",
    "ax[1].set_xlabel('Répétition du sondage')\n",
    "ax[1].set_ylabel('Moyenne estimée')\n",
    "ax[1].set_title('Estimations de la moyenne avec le pi-estimateur')\n",
    "ax[1].legend()\n",
    "\n",
    "plt.show()"
   ]
  },
  {
   "attachments": {},
   "cell_type": "markdown",
   "id": "0135259a",
   "metadata": {},
   "source": [
    "> Valeurs réelles :\n",
    "\n",
    "Total des naissances (T) :  2624.0\n",
    "\n",
    "Moyenne des naissances (M) :  12.49\n",
    "\n",
    "> On obtient ici un estimateur beaucoup plus proche des valeurs réelles mais surtout avec des variances plus faibles par rapport aux estimateurs de l'exercice 1. Ces estimateurs parrait donc meilleur que celui de l'exercice 1 !\n",
    "\n"
   ]
  },
  {
   "cell_type": "markdown",
   "id": "4dde5dbb",
   "metadata": {},
   "source": [
    ">### 6.\n",
    "Effectuer sur le modèle des questions précédentes  un plan de sondage stratifié selon la méthode proportionnelle. Comparer aux résultats précédents."
   ]
  },
  {
   "cell_type": "code",
   "execution_count": 24,
   "id": "47a190f0",
   "metadata": {},
   "outputs": [
    {
     "name": "stdout",
     "output_type": "stream",
     "text": [
      "Moyenne des valeurs du Pi-estimateur du total :  2398.704\n",
      "Variance du Pi-estimateur du total :  245020.29759999993 \n",
      "\n",
      "Moyenne des valeurs du Pi-estimateur de la moyenne :  11.4224\n",
      "Variance du Pi-estimateur de la moyenne :  5.556015818594106\n"
     ]
    },
    {
     "data": {
      "image/png": "[encoded data removed]",
      "text/plain": [
       "<Figure size 1440x432 with 2 Axes>"
      ]
     },
     "metadata": {
      "needs_background": "light"
     },
     "output_type": "display_data"
    }
   ],
   "source": [
    "# Pour garder une cohérence et pouvoir comparer avec l'exercice 1 il nous faut :\n",
    "taille_echantillon = 25\n",
    "\n",
    "# Calculer les probabilités d'inclusion pour chaque strate\n",
    "probabilites_inclusion = taille_echantillon / len(paroisse)\n",
    "\n",
    "# Calculer les poids d'échantillonnage pour chaque strate\n",
    "poids_echantillonnage = (1 / probabilites_inclusion)\n",
    "\n",
    "nb_repetitions = 100 \n",
    "estim_moyenne_pi_prop = np.zeros(nb_repetitions)\n",
    "estim_total_pi_prop = np.zeros(nb_repetitions)\n",
    "\n",
    "for i in range(nb_repetitions):\n",
    "    # Effectuer le sondage stratifié proportionnel\n",
    "    echantillon_stratifie_proportionnel = paroisse.groupby(\"strate\", group_keys=False).apply(lambda x: x.sample(frac=probabilites_inclusion))\n",
    "    echantillon_stratifie_proportionnel = echantillon_stratifie_proportionnel.reset_index(drop=True)\n",
    "\n",
    "    # pi-estimation de la moyenne\n",
    "    estim_moyenne_pi_prop[i] = (echantillon_stratifie_proportionnel.groupby(\"strate\").sum()[\"naissance\"]).sum() / taille_echantillon\n",
    "    \n",
    "    # pi-estimation du total\n",
    "    estim_total_pi_prop[i] = poids_echantillonnage * (echantillon_stratifie_proportionnel.groupby(\"strate\").sum()[\"naissance\"]).sum()\n",
    "\n",
    "# calcul des variances :\n",
    "var_estim_total_pi = ((estim_total_pi_prop - paroisse[\"naissance\"].sum())**2).mean()\n",
    "var_estim_moyenne_pi = ((estim_moyenne_pi_prop - paroisse[\"naissance\"].mean())**2).mean()\n",
    "\n",
    "# Afficher les résultats\n",
    "print(\"Moyenne des valeurs du Pi-estimateur du total : \", estim_total_pi_prop.mean())\n",
    "print(\"Variance du Pi-estimateur du total : \", var_estim_total_pi.mean(),'\\n')\n",
    "print(\"Moyenne des valeurs du Pi-estimateur de la moyenne : \", estim_moyenne_pi_prop.mean())\n",
    "print(\"Variance du Pi-estimateur de la moyenne : \", var_estim_moyenne_pi.mean())\n",
    "\n",
    "# Créer un graphique pour afficher les résultats\n",
    "fig, ax = plt.subplots(1, 2, figsize=(20, 6))\n",
    "ax[0].axhline(y=vrai_total, color='red', linestyle='dashed', label='Vraie valeur du total')  # Vraie valeur du total\n",
    "ax[0].plot(range(1, n_repetitions+1), estim_total_pi_prop, 'o', label='Estimations du total')  # Estimations du total\n",
    "ax[0].set_xlabel('Répétition du sondage')\n",
    "ax[0].set_ylabel('Total estimé')\n",
    "ax[0].set_title('Estimations du total avec le pi-estimateur')\n",
    "ax[0].legend()\n",
    "\n",
    "ax[1].axhline(y=vrai_moyenne, color='red', linestyle='dashed', label='Vraie valeur de la moyenne')  # Vraie valeur du total\n",
    "ax[1].plot(range(1, n_repetitions+1), estim_moyenne_pi_prop, 'o', label='Estimations de la moyenne')  # Estimations de la moyenne\n",
    "ax[1].set_xlabel('Répétition du sondage')\n",
    "ax[1].set_ylabel('Moyenne estimée')\n",
    "ax[1].set_title('Estimations de la moyenne avec le pi-estimateur')\n",
    "ax[1].legend()\n",
    "\n",
    "plt.show()"
   ]
  },
  {
   "attachments": {},
   "cell_type": "markdown",
   "id": "f106b94d",
   "metadata": {},
   "source": [
    "> Les résultats de notre pi-estimateurs du total et de la moyenne ne sont pas concluant... Leur variances sont plus élevé que ce qu'on a pu trouver précédement et leur moyenne éloignée du résultat attendu... Mais toujours mieux qu'a l'exercice 1 en terme de variance. Or cette méthode devrait être beaucup plus performante que la stratifiée simple... les nombres d'indivudu par strates étaient peut être déjà optimisé dans la question précédente..."
   ]
  },
  {
   "attachments": {},
   "cell_type": "markdown",
   "id": "31c4db38",
   "metadata": {},
   "source": [
    "> A noter que le dataset paret petit pour les test que l'on réalise, 210 personnes et on fait 25*100=2500 personnes pour nos moyennes... Sur un plus grand dataset on risque de mieux pouvoir différencier nos différentes méthodes"
   ]
  },
  {
   "cell_type": "markdown",
   "id": "9b5f99da",
   "metadata": {},
   "source": [
    "## Exercice 4 : Plan stratifié optimal\n",
    "\n",
    "Dans cet exercice on veut coder le plan stratifié optimal pour le total. On travaillera toujours sur la dataframe `paroisse`."
   ]
  },
  {
   "cell_type": "markdown",
   "id": "d32bce95",
   "metadata": {},
   "source": [
    ">### 1.\n",
    "Calculez les variances corrigées pour chaque strate"
   ]
  },
  {
   "cell_type": "code",
   "execution_count": 25,
   "id": "54dcd9e3",
   "metadata": {},
   "outputs": [
    {
     "name": "stdout",
     "output_type": "stream",
     "text": [
      "Variance corrigée pour la strate 1 : 40.35\n",
      "Variance corrigée pour la strate 2 : 30.56\n",
      "Variance corrigée pour la strate 3 : 74.56\n",
      "Variance corrigée pour la strate 4 : 1192.15\n"
     ]
    }
   ],
   "source": [
    "# Calcul des variances corrigées pour chaque strates\n",
    "corrected_var = []\n",
    "\n",
    "grouped = paroisse.groupby(\"strate\")\n",
    "for name, group in grouped:\n",
    "    N_i = len(group)\n",
    "    y_i_mean = group[\"naissance\"].mean()\n",
    "    s_i2 = (1/(N_i -1)) * np.sum((group[\"naissance\"] - y_i_mean)**2)\n",
    "    corrected_var.append(s_i2)\n",
    "    print(f\"Variance corrigée pour la strate {name:.0f} : {s_i2:.2f}\")"
   ]
  },
  {
   "cell_type": "markdown",
   "id": "fe712618",
   "metadata": {},
   "source": [
    ">### 2.\n",
    "Calculer  les tailles optimales d'échantillons pour chaque strate quand la taille globale de l'échantillon est fixée à 25."
   ]
  },
  {
   "cell_type": "code",
   "execution_count": 26,
   "id": "4ba95aa9",
   "metadata": {},
   "outputs": [],
   "source": [
    "# Calcul des tailles d'échantillons optimales pour chaque strate\n",
    "n=25\n",
    "\n",
    "# Total des variances\n",
    "N_j = np.array(paroisse[\"strate\"].value_counts().tolist())\n",
    "total_variance = (N_j * np.sqrt(corrected_var)).sum()\n",
    "\n",
    "#stockage du résultat\n",
    "tailles_strates_optimales = (n * N_j * np.sqrt(corrected_var) / total_variance).round()\n",
    "tailles_strates_optimales = tailles_strates_optimales.astype(int)"
   ]
  },
  {
   "cell_type": "markdown",
   "id": "a1f596c2",
   "metadata": {},
   "source": [
    ">### 3.\n",
    "Effectuer un plan de sondage stratifié avec les tailles calculées précédemment. Comparer aux méthodes effectuées précédemment."
   ]
  },
  {
   "cell_type": "code",
   "execution_count": 27,
   "id": "261a43cd",
   "metadata": {},
   "outputs": [
    {
     "name": "stdout",
     "output_type": "stream",
     "text": [
      "Moyenne des valeurs du Pi-estimateur du total :  2587.1883333333335\n",
      "Variance du Pi-estimateur du total :  105013.78472222223 \n",
      "\n",
      "Moyenne des valeurs du Pi-estimateur de la moyenne :  12.319944444444445\n",
      "Variance du Pi-estimateur de la moyenne :  2.381264959687579\n"
     ]
    },
    {
     "data": {
      "image/png": "[encoded data removed]",
      "text/plain": [
       "<Figure size 1440x432 with 2 Axes>"
      ]
     },
     "metadata": {
      "needs_background": "light"
     },
     "output_type": "display_data"
    }
   ],
   "source": [
    "# On récupère les tailles optimales pour  chaques strates\n",
    "taille_echantillon_strates = pd.Series(tailles_strates_optimales, index=[1., 2., 3., 4.])\n",
    "\n",
    "# Calcul des probabilités d'inclusion pour chaque strate\n",
    "probabilites_inclusion = taille_echantillon_strates / paroisse.groupby(\"strate\").size()\n",
    "\n",
    "# Calcul des poids d'échantillonnage pour chaque strate\n",
    "poids_echantillonnage = (1 / probabilites_inclusion)\n",
    "\n",
    "nb_repetitions = 100 \n",
    "estim_moyenne_pi = np.zeros(nb_repetitions)\n",
    "estim_total_pi = np.zeros(nb_repetitions)\n",
    "\n",
    "for i in range(nb_repetitions):\n",
    "    # Effectuer le sondage stratifié\n",
    "    echantillon_stratifie = paroisse.groupby('strate').apply(lambda x: x.sample(taille_echantillon_strates[x.name]))\n",
    "    echantillon_stratifie = echantillon_stratifie.reset_index(drop=True)\n",
    "    \n",
    "    # Calculer l'estimation de la moyenne par pi-estimation\n",
    "    estim_moyenne_pi[i] = (echantillon_stratifie.groupby(\"strate\").sum()[\"naissance\"] * poids_echantillonnage).sum() / len(paroisse)\n",
    "    \n",
    "    # Calculer l'estimation du total par pi-estimation\n",
    "    estim_total_pi[i] = (echantillon_stratifie.groupby(\"strate\").sum()[\"naissance\"] * poids_echantillonnage).sum()\n",
    "\n",
    "# calcul des variances :\n",
    "var_estim_total_pi = ((estim_total_pi - paroisse[\"naissance\"].sum())**2).mean()\n",
    "var_estim_moyenne_pi = ((estim_moyenne_pi - paroisse[\"naissance\"].mean())**2).mean()\n",
    "\n",
    "# Afficher les résultats\n",
    "print(\"Moyenne des valeurs du Pi-estimateur du total : \", estim_total_pi.mean())\n",
    "print(\"Variance du Pi-estimateur du total : \", var_estim_total_pi.mean(),'\\n')\n",
    "print(\"Moyenne des valeurs du Pi-estimateur de la moyenne : \", estim_moyenne_pi.mean())\n",
    "print(\"Variance du Pi-estimateur de la moyenne : \", var_estim_moyenne_pi.mean())\n",
    "\n",
    "# Créer un graphique pour afficher les résultats\n",
    "fig, ax = plt.subplots(1, 2, figsize=(20, 6))\n",
    "ax[0].axhline(y=vrai_total, color='red', linestyle='dashed', label='Vraie valeur du total')  # Vraie valeur du total\n",
    "ax[0].plot(range(1, n_repetitions+1), estim_total_pi, 'o', label='Estimations du total')  # Estimations du total\n",
    "ax[0].set_xlabel('Répétition du sondage')\n",
    "ax[0].set_ylabel('Total estimé')\n",
    "ax[0].set_title('Estimations du total avec le pi-estimateur')\n",
    "ax[0].legend()\n",
    "\n",
    "ax[1].axhline(y=vrai_moyenne, color='red', linestyle='dashed', label='Vraie valeur de la moyenne')  # Vraie valeur du total\n",
    "ax[1].plot(range(1, n_repetitions+1), estim_moyenne_pi, 'o', label='Estimations de la moyenne')  # Estimations de la moyenne\n",
    "ax[1].set_xlabel('Répétition du sondage')\n",
    "ax[1].set_ylabel('Moyenne estimée')\n",
    "ax[1].set_title('Estimations de la moyenne avec le pi-estimateur')\n",
    "ax[1].legend()\n",
    "\n",
    "plt.show()"
   ]
  },
  {
   "attachments": {},
   "cell_type": "markdown",
   "id": "2357eb8a",
   "metadata": {},
   "source": [
    "> Cette méthode donne une meilleure variances pour les deux estimateurs par rapport au deux précédents exos ! Des valeurs plus proches des moyennes réelles ! Il est le meilleur estimateur obtenu d'un point de vu de la varaince et de l'estimation en propre. Par rapport à l'exercice 1 et 2 ! En revanche il nécsssite quelques préerquis ..."
   ]
  },
  {
   "cell_type": "markdown",
   "id": "e5d89bc9",
   "metadata": {},
   "source": [
    ">### 5. \n",
    "Quel est l'incovénient pratique de cette méthode?"
   ]
  },
  {
   "attachments": {},
   "cell_type": "markdown",
   "id": "32102a14",
   "metadata": {},
   "source": [
    "L'inconvénient pratique de cette méhode peut venir de deux points :\n",
    "\n",
    "- Complexe à mettre en œuvre dans la pratique, car elle nécessite de calculer les tailles d'échantillons optimales pour chaque strate en fonction des variances estimées dans chaque strate. Cela nécessite donc des données supplémentaires sur les variances des données dans chaque strate + du calcul pour ajuster les tailles d'échantillons.\n",
    "\n",
    "- Sensible aux erreurs d'estimation des variances dans chaque strate, car des estimations incorrectes des variances peuvent entraîner des tailles d'échantillons inappropriées et affecter la précision des estimations finales."
   ]
  }
 ],
 "metadata": {
  "kernelspec": {
   "display_name": "Python 3 (ipykernel)",
   "language": "python",
   "name": "python3"
  },
  "language_info": {
   "codemirror_mode": {
    "name": "ipython",
    "version": 3
   },
   "file_extension": ".py",
   "mimetype": "text/x-python",
   "name": "python",
   "nbconvert_exporter": "python",
   "pygments_lexer": "ipython3",
   "version": "3.9.7"
  }
 },
 "nbformat": 4,
 "nbformat_minor": 5
}
