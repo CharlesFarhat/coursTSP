{
 "cells": [
  {
   "cell_type": "markdown",
   "metadata": {
    "id": "fy6W0ilolOJz"
   },
   "source": [
    "# TP_Bagging vs. Boost "
   ]
  },
  {
   "cell_type": "code",
   "execution_count": null,
   "metadata": {
    "id": "A4y7IJyHlWUD"
   },
   "outputs": [],
   "source": [
    "import pandas as pd\n",
    "import numpy as np\n",
    "import matplotlib.pyplot as plt\n",
    "\n",
    "from sklearn.preprocessing import StandardScaler\n",
    "from sklearn.tree import DecisionTreeClassifier\n",
    "from sklearn.linear_model import LogisticRegression\n",
    "from sklearn.svm import SVC\n",
    "from sklearn.ensemble import AdaBoostClassifier\n",
    "from sklearn.datasets import load_breast_cancer\n",
    "from sklearn.model_selection import train_test_split\n",
    "\n",
    "np.random.seed(42)"
   ]
  },
  {
   "cell_type": "markdown",
   "metadata": {
    "id": "04DiQmx0lfq1"
   },
   "source": [
    "## I. Import data"
   ]
  },
  {
   "cell_type": "code",
   "execution_count": null,
   "metadata": {
    "id": "5GeYyEfblfbL"
   },
   "outputs": [],
   "source": [
    "cancer = load_breast_cancer()\n",
    "# print the names of the 13 features\n",
    "print(\"Features: \", cancer.feature_names)\n",
    "\n",
    "# print the label type of cancer('malignant' 'benign')\n",
    "print(\"Labels: \", cancer.target_names)\n",
    "\n",
    "# print data(feature)shape\n",
    "cancer.data.shape"
   ]
  },
  {
   "cell_type": "code",
   "execution_count": null,
   "metadata": {},
   "outputs": [],
   "source": [
    "# print the cancer data features (top 5 records)\n",
    "print(cancer.data[0:5])\n",
    "\n",
    "# print the cancer labels (0:malignant, 1:benign)\n",
    "print(cancer.target)"
   ]
  },
  {
   "cell_type": "code",
   "execution_count": null,
   "metadata": {},
   "outputs": [],
   "source": [
    "x = cancer['data']\n",
    "y = cancer['target']\n",
    "\n",
    "x_train, x_test, y_train, y_test = train_test_split(x, y, test_size=0.3, random_state=42)  # 70% training and 30% test\n"
   ]
  },
  {
   "cell_type": "markdown",
   "metadata": {},
   "source": [
    "### <font color='red'>*Q1 : Décrire la base de données de l'étude.*</font>"
   ]
  },
  {
   "cell_type": "markdown",
   "metadata": {},
   "source": [
    "# II. Comparer : DT, RF, Bagging, Boosting"
   ]
  },
  {
   "cell_type": "code",
   "execution_count": null,
   "metadata": {},
   "outputs": [],
   "source": [
    "from sklearn.ensemble import BaggingClassifier\n",
    "from sklearn import tree\n",
    "\n",
    "# Bagging Classifier with 1 model (A decision tree)\n",
    "clf = tree.DecisionTreeClassifier(random_state=42)\n",
    "clf.fit(x_train, y_train)\n",
    "y_pred = clf.predict(x_test)\n",
    "accuracy = clf.score(x_test,y_test)\n",
    "print(\"Accuracy value:\",\"%.3f\" %(100*accuracy),\"%\")\n"
   ]
  },
  {
   "cell_type": "code",
   "execution_count": null,
   "metadata": {},
   "outputs": [],
   "source": [
    "# Bagging Classifier with several decision trees\n",
    "clf = BaggingClassifier(tree.DecisionTreeClassifier(), n_estimators=300, random_state=42)\n",
    "\n",
    "clf.fit(x_train, y_train)\n",
    "y_pred = clf.predict(x_test)\n",
    "accuracy = clf.score(x_test,y_test)\n",
    "print(\"Accuracy value:\",\"%.3f\" %(100*accuracy),\"%\")\n"
   ]
  },
  {
   "cell_type": "code",
   "execution_count": null,
   "metadata": {},
   "outputs": [],
   "source": [
    "# Random Forest\n",
    "from sklearn.ensemble import RandomForestClassifier\n",
    "\n",
    "clf = RandomForestClassifier(n_estimators=300, random_state=42)\n",
    "clf.fit(x_train, y_train)\n",
    "y_pred = clf.predict(x_test)\n",
    "accuracy = clf.score(x_test,y_test)\n",
    "print(\"Accuracy value:\",\"%.3f\" %(100*accuracy),\"%\")"
   ]
  },
  {
   "cell_type": "code",
   "execution_count": null,
   "metadata": {},
   "outputs": [],
   "source": [
    "# Adaboost \n",
    "weak_learner = DecisionTreeClassifier(max_depth=1) #One level decision tree (decision stump)\n",
    "model_ada_tree = AdaBoostClassifier(base_estimator=weak_learner)\n",
    "\n",
    "model_ada_tree.fit(x_train, y_train)\n",
    "y_pred = model_ada_tree.predict(x_test)\n",
    "\n",
    "print(\"Accuracy value:\",\"%.3f\" %(100*np.mean(y_test==y_pred)),\"%\")\n"
   ]
  },
  {
   "cell_type": "markdown",
   "metadata": {},
   "source": [
    "### <font color='red'>*Q2 : Comparer les résultats de ces quatres modèles. Expliquer.*</font>"
   ]
  },
  {
   "cell_type": "markdown",
   "metadata": {},
   "source": [
    "# III. Analyse des hysperparamètres de Adaboost"
   ]
  },
  {
   "cell_type": "markdown",
   "metadata": {},
   "source": [
    "### III.1. base_estimators"
   ]
  },
  {
   "cell_type": "markdown",
   "metadata": {},
   "source": [
    "### It defines which algorithm we will be used in our Boosting procedure. We can use any type of algorithm with sklearn."
   ]
  },
  {
   "cell_type": "code",
   "execution_count": null,
   "metadata": {},
   "outputs": [],
   "source": [
    "#Estimator: decision tree\n",
    "weak_learner = DecisionTreeClassifier(max_depth=1) #One level decision tree \n",
    "model_ada_tree = AdaBoostClassifier(base_estimator=weak_learner)\n",
    "\n",
    "model_ada_tree.fit(x_train, y_train)\n",
    "y_pred = model_ada_tree.predict(x_test)\n",
    "\n",
    "print(\"Accuracy value:\",\"%.3f\" %(100*np.mean(y_test==y_pred)),\"%\")"
   ]
  },
  {
   "cell_type": "code",
   "execution_count": null,
   "metadata": {},
   "outputs": [],
   "source": [
    "#Estimator: decision tree\n",
    "weak_learner = DecisionTreeClassifier(max_depth=10) \n",
    "model_ada_tree = AdaBoostClassifier(base_estimator=weak_learner)\n",
    "\n",
    "model_ada_tree.fit(x_train, y_train)\n",
    "y_pred = model_ada_tree.predict(x_test)\n",
    "\n",
    "print(\"Accuracy value:\",\"%.3f\" %(100*np.mean(y_test==y_pred)),\"%\")"
   ]
  },
  {
   "cell_type": "code",
   "execution_count": null,
   "metadata": {
    "colab": {
     "base_uri": "https://localhost:8080/"
    },
    "id": "1_UgcL6616r2",
    "outputId": "94af75e0-56ed-4e44-821f-b42fcd78fc0e"
   },
   "outputs": [],
   "source": [
    "#Estimator: SVM\n",
    "weak_learner = SVC(probability=True, kernel='linear')\n",
    "model_ada_rl = AdaBoostClassifier(base_estimator=weak_learner)\n",
    "\n",
    "scaler = StandardScaler().fit(x_train)\n",
    "\n",
    "x_train_scale = scaler.transform(x_train)\n",
    "model_ada_rl.fit(x_train_scale, y_train)\n",
    "\n",
    "x_test_scale = scaler.transform(x_test)\n",
    "y_pred = model_ada_rl.predict(x_test_scale)\n",
    "\n",
    "print(\"Accuracy value:\",\"%.3f\" %(100*np.mean(y_test==y_pred)),\"%\")"
   ]
  },
  {
   "cell_type": "code",
   "execution_count": null,
   "metadata": {},
   "outputs": [],
   "source": [
    "#Estimator: logistic regression\n",
    "weak_learner = LogisticRegression()\n",
    "model_ada_rl = AdaBoostClassifier(base_estimator=weak_learner)\n",
    "\n",
    "scaler = StandardScaler().fit(x_train)\n",
    "\n",
    "x_train_scale = scaler.transform(x_train)\n",
    "model_ada_rl.fit(x_train_scale, y_train)\n",
    "\n",
    "x_test_scale = scaler.transform(x_test)\n",
    "y_pred = model_ada_rl.predict(x_test_scale)\n",
    "\n",
    "print(\"Accuracy value:\",\"%.3f\" %(100*np.mean(y_test==y_pred)),\"%\")"
   ]
  },
  {
   "cell_type": "markdown",
   "metadata": {},
   "source": [
    "### <font color='red'>*Q3 : Comparer les résultats de ces quatres modèles. Expliquer.*</font>"
   ]
  },
  {
   "cell_type": "markdown",
   "metadata": {
    "id": "uX729i2ZlziA"
   },
   "source": [
    "### III.2. n_estimators\n",
    "### It defines the number of estimators used for the ensemble design."
   ]
  },
  {
   "cell_type": "code",
   "execution_count": null,
   "metadata": {
    "colab": {
     "base_uri": "https://localhost:8080/"
    },
    "id": "eQSdloBAl39n",
    "outputId": "8b7f69ee-4a50-4b2a-ccca-4ad417f513ea"
   },
   "outputs": [],
   "source": [
    "weak_learner = DecisionTreeClassifier(max_depth=1)\n",
    "model_ada_tree = AdaBoostClassifier(base_estimator=weak_learner, n_estimators=5)\n",
    "\n",
    "model_ada_tree.fit(x_train, y_train)\n",
    "y_pred = model_ada_tree.predict(x_test)\n",
    "\n",
    "print(\"Accuracy value:\",\"%.3f\" %(100*np.mean(y_test==y_pred)),\"%\")"
   ]
  },
  {
   "cell_type": "code",
   "execution_count": null,
   "metadata": {
    "colab": {
     "base_uri": "https://localhost:8080/"
    },
    "id": "knuSn2CJ4YaX",
    "outputId": "68173c23-c0e3-4b5f-8202-45192d3b7da3"
   },
   "outputs": [],
   "source": [
    "weak_learner = DecisionTreeClassifier(max_depth=1)\n",
    "model_ada_tree = AdaBoostClassifier(base_estimator=weak_learner, n_estimators=100)\n",
    "\n",
    "model_ada_tree.fit(x_train, y_train)\n",
    "y_pred = model_ada_tree.predict(x_test)\n",
    "\n",
    "print(\"Accuracy value:\",\"%.3f\" %(100*np.mean(y_test==y_pred)),\"%\")"
   ]
  },
  {
   "cell_type": "markdown",
   "metadata": {},
   "source": [
    "### <font color='red'>*Q4 : Analyser l'impact du nombre d'estimateurs.*</font>"
   ]
  },
  {
   "cell_type": "markdown",
   "metadata": {
    "id": "y_TkC1d_l6M_"
   },
   "source": [
    "### III.3. learning_rate\n",
    "### It controls the rate or the speed at which the weights change per iteration."
   ]
  },
  {
   "cell_type": "code",
   "execution_count": null,
   "metadata": {
    "colab": {
     "base_uri": "https://localhost:8080/"
    },
    "id": "Fy8VtsvRl8_B",
    "outputId": "f1d291ad-80fc-450c-a415-9d7afc406ab0"
   },
   "outputs": [],
   "source": [
    "weak_learner = DecisionTreeClassifier(max_depth=1)\n",
    "# Try with n_estimators=100 and learning_rate=1\n",
    "# Then, with n_estimators=100 and learning_rate=2\n",
    "model_ada_tree = AdaBoostClassifier(base_estimator=weak_learner, n_estimators=100, learning_rate=1, random_state=42)\n",
    "\n",
    "model_ada_tree.fit(x_train, y_train)\n",
    "y_pred = model_ada_tree.predict(x_test)\n",
    "\n",
    "print(\"Accuracy value:\",\"%.3f\" %(100*np.mean(y_test==y_pred)),\"%\")"
   ]
  },
  {
   "cell_type": "code",
   "execution_count": null,
   "metadata": {
    "colab": {
     "base_uri": "https://localhost:8080/"
    },
    "id": "O6XigKwl6rNS",
    "outputId": "0f07b812-5d0f-47c4-dd65-50c71129af20"
   },
   "outputs": [],
   "source": [
    "weak_learner = DecisionTreeClassifier(max_depth=1)\n",
    "# Try with learning_rate=0.5 and n_estimators=100\n",
    "# Then, with learning_rate=0.5 and n_estimators=500\n",
    "model_ada_tree = AdaBoostClassifier(base_estimator=weak_learner, n_estimators=100, learning_rate=0.5, random_state=42) \n",
    "\n",
    "model_ada_tree.fit(x_train, y_train)\n",
    "y_pred = model_ada_tree.predict(x_test)\n",
    "\n",
    "print(\"Accuracy value:\",\"%.3f\" %(100*np.mean(y_test==y_pred)),\"%\")"
   ]
  },
  {
   "cell_type": "markdown",
   "metadata": {},
   "source": [
    "### <font color='red'>*Q5 : Analyser l'impact du learning rate et étudier sa relation avec le nombre d'estimateurs.*</font>"
   ]
  },
  {
   "cell_type": "markdown",
   "metadata": {
    "id": "yk-7-So1mzkr"
   },
   "source": [
    "### III.4. estimator_weights_\n",
    "### To know the weight (the contribution) of each estimator :"
   ]
  },
  {
   "cell_type": "code",
   "execution_count": null,
   "metadata": {
    "colab": {
     "base_uri": "https://localhost:8080/"
    },
    "id": "X8kt6yqkBGre",
    "outputId": "c610888d-e1ab-467a-e083-46a1ef15407e"
   },
   "outputs": [],
   "source": [
    "weak_learner = DecisionTreeClassifier(max_depth=1)\n",
    "#By default: algorithm=SAMME.R : a variant that works with classifiers that can output prediction probabilities.\n",
    "model_ada_tree = AdaBoostClassifier(base_estimator=weak_learner, n_estimators=100, algorithm=\"SAMME\", learning_rate=1,random_state=42)\n",
    "\n",
    "model_ada_tree.fit(x_train, y_train)\n",
    "y_pred = model_ada_tree.predict(x_test)\n",
    "\n",
    "print(\"Accuracy value:\",\"%.3f\" %(100*np.mean(y_test==y_pred)),\"%\")\n",
    "\n",
    "wj=model_ada_tree.estimator_weights_\n",
    "print(wj)"
   ]
  },
  {
   "cell_type": "code",
   "execution_count": null,
   "metadata": {},
   "outputs": [],
   "source": [
    "plt.plot(wj)\n",
    "plt.xlabel('Nmber of estimators')\n",
    "plt.ylabel('Estimator weights')\n",
    "plt.show()"
   ]
  },
  {
   "cell_type": "markdown",
   "metadata": {},
   "source": [
    "### <font color='red'>*Q6 : Interpréter la courbe obtenue.*</font>"
   ]
  },
  {
   "cell_type": "markdown",
   "metadata": {
    "id": "fQ4PhY-Vm_vu"
   },
   "source": [
    "### III.5. feature_importances_"
   ]
  },
  {
   "cell_type": "code",
   "execution_count": null,
   "metadata": {
    "colab": {
     "base_uri": "https://localhost:8080/"
    },
    "id": "KbfygtUFnDFx",
    "outputId": "ba6fb454-3fb8-4669-8c6c-b55b78624255"
   },
   "outputs": [],
   "source": [
    "model_ada_tree.feature_importances_"
   ]
  },
  {
   "cell_type": "code",
   "execution_count": null,
   "metadata": {
    "colab": {
     "base_uri": "https://localhost:8080/",
     "height": 131
    },
    "id": "Bnu7CzUKDOMR",
    "outputId": "482fa164-3e11-4814-990d-c7d46e2b80a3"
   },
   "outputs": [],
   "source": [
    "pd.DataFrame([model_ada_tree.feature_importances_], columns=cancer['feature_names'])"
   ]
  },
  {
   "cell_type": "markdown",
   "metadata": {},
   "source": [
    "### <font color='red'>*Q7 : Quelles sont les variables qui semblent pertinentes?*</font>"
   ]
  },
  {
   "cell_type": "code",
   "execution_count": null,
   "metadata": {},
   "outputs": [],
   "source": []
  }
 ],
 "metadata": {
  "colab": {
   "collapsed_sections": [],
   "name": "AdaBoost avec sklearn.ipynb",
   "provenance": []
  },
  "kernelspec": {
   "display_name": "Python 3",
   "language": "python",
   "name": "python3"
  },
  "language_info": {
   "codemirror_mode": {
    "name": "ipython",
    "version": 3
   },
   "file_extension": ".py",
   "mimetype": "text/x-python",
   "name": "python",
   "nbconvert_exporter": "python",
   "pygments_lexer": "ipython3",
   "version": "3.8.3"
  }
 },
 "nbformat": 4,
 "nbformat_minor": 1
}
