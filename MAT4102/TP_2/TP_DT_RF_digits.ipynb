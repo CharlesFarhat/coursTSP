{
 "cells": [
  {
   "cell_type": "code",
   "execution_count": 1,
   "metadata": {},
   "outputs": [],
   "source": [
    "#%matplotlib inline\n",
    "import scipy\n",
    "import numpy as np\n",
    "import matplotlib.pyplot as plt\n",
    "np.random.seed(0)"
   ]
  },
  {
   "cell_type": "markdown",
   "metadata": {},
   "source": [
    "## I. Visualiser la base de chiffres manuscrits\n"
   ]
  },
  {
   "cell_type": "code",
   "execution_count": 2,
   "metadata": {},
   "outputs": [
    {
     "name": "stdout",
     "output_type": "stream",
     "text": [
      "[0 1 2 3 4 5 6 7 8 9]\n",
      "['pixel_0_0', 'pixel_0_1', 'pixel_0_2', 'pixel_0_3', 'pixel_0_4', 'pixel_0_5', 'pixel_0_6', 'pixel_0_7', 'pixel_1_0', 'pixel_1_1', 'pixel_1_2', 'pixel_1_3', 'pixel_1_4', 'pixel_1_5', 'pixel_1_6', 'pixel_1_7', 'pixel_2_0', 'pixel_2_1', 'pixel_2_2', 'pixel_2_3', 'pixel_2_4', 'pixel_2_5', 'pixel_2_6', 'pixel_2_7', 'pixel_3_0', 'pixel_3_1', 'pixel_3_2', 'pixel_3_3', 'pixel_3_4', 'pixel_3_5', 'pixel_3_6', 'pixel_3_7', 'pixel_4_0', 'pixel_4_1', 'pixel_4_2', 'pixel_4_3', 'pixel_4_4', 'pixel_4_5', 'pixel_4_6', 'pixel_4_7', 'pixel_5_0', 'pixel_5_1', 'pixel_5_2', 'pixel_5_3', 'pixel_5_4', 'pixel_5_5', 'pixel_5_6', 'pixel_5_7', 'pixel_6_0', 'pixel_6_1', 'pixel_6_2', 'pixel_6_3', 'pixel_6_4', 'pixel_6_5', 'pixel_6_6', 'pixel_6_7', 'pixel_7_0', 'pixel_7_1', 'pixel_7_2', 'pixel_7_3', 'pixel_7_4', 'pixel_7_5', 'pixel_7_6', 'pixel_7_7']\n"
     ]
    },
    {
     "data": {
      "image/png": "[encoded data removed]",
      "text/plain": [
       "<Figure size 1152x432 with 10 Axes>"
      ]
     },
     "metadata": {
      "needs_background": "light"
     },
     "output_type": "display_data"
    },
    {
     "name": "stdout",
     "output_type": "stream",
     "text": [
      "n_samples: [178 182 177 183 181 182 181 179 174 180]\n"
     ]
    }
   ],
   "source": [
    "from sklearn.datasets import load_digits\n",
    "\n",
    "# Load Iris dataset\n",
    "digits = load_digits()\n",
    "\n",
    "## print the label species(setosa, versicolor,virginica)\n",
    "print(digits.target_names)\n",
    "## print the names of the four features\n",
    "print(digits.feature_names)\n",
    "\n",
    "# Affichage des 10 premières images\n",
    "fig = plt.figure(figsize=(16,6))\n",
    "for i, digit in enumerate(digits.images[:10]):\n",
    "    fig.add_subplot(1,10,i+1)\n",
    "    plt.imshow(digit, cmap='binary')\n",
    "plt.show()\n",
    "\n",
    "print(\"n_samples: %s\" % np.bincount(digits.target))\n"
   ]
  },
  {
   "cell_type": "markdown",
   "metadata": {},
   "source": [
    "### <font color='red'>*Q1 : Déterminer les descripteurs, les classes et le nombre d'exemples par classe.*</font>\n",
    "### <font color='red'>*Q2 : Donner un avis sur la qualité des données en comparaisant à la base MNIST exploitée pour le TP clustering.*</font>"
   ]
  },
  {
   "cell_type": "markdown",
   "metadata": {},
   "source": [
    "## II. Classification avec les Arbres de Décision"
   ]
  },
  {
   "cell_type": "code",
   "execution_count": null,
   "metadata": {},
   "outputs": [],
   "source": [
    "from sklearn import tree\n",
    "\n",
    "#Accuracy of the model on the whole dataset\n",
    "X, y = digits.data, digits.target\n",
    "clf = tree.DecisionTreeClassifier()\n",
    "clf.fit(X, y)\n",
    "accuracy = clf.score(X,y)\n",
    "\n",
    "print(\"Accuracy value:\",\"%.0f\" %(100*accuracy),\"%\")"
   ]
  },
  {
   "cell_type": "markdown",
   "metadata": {},
   "source": [
    "### <font color='red'>*Q3 : Expliquer la valeur de performance obtenue.*</font>\n",
    "\n",
    "### Dans ce qui suit, partager la base en deux sous-ensemble, apprentissage et test"
   ]
  },
  {
   "cell_type": "code",
   "execution_count": null,
   "metadata": {},
   "outputs": [],
   "source": [
    "from sklearn.model_selection import train_test_split\n",
    "# 90% of data in the test, 10% for the training\n",
    "X_train, X_test, y_train, y_test = train_test_split(X, y, test_size=0.9, random_state=0)\n",
    "\n",
    "clf = tree.DecisionTreeClassifier()\n",
    "clf.fit(X_train, y_train)\n",
    "\n",
    "Z = clf.predict(X_test)\n",
    "accuracy = clf.score(X_test,y_test)\n",
    "print(\"Accuracy value:\",\"%.2f\" %(100*accuracy),\"%\")"
   ]
  },
  {
   "cell_type": "markdown",
   "metadata": {},
   "source": [
    "### <font color='red'>*Q4 : Exécuter la fonction ci-dessus 10 fois. Qu'observez-vous ?*</font>\n",
    "\n",
    "### Dans ce qui suit, appliquer 100 tirages aléatoires de l'ensemble d'apprentissage et de test. Que conclure ?"
   ]
  },
  {
   "cell_type": "code",
   "execution_count": null,
   "metadata": {},
   "outputs": [],
   "source": [
    "N = 100\n",
    "accuracies = []\n",
    "for i in range(N):\n",
    "    X_train, X_test, y_train, y_test = train_test_split(X, y, test_size=0.9, random_state=0)\n",
    "    clf = tree.DecisionTreeClassifier()\n",
    "    clf.fit(X_train, y_train)\n",
    "    Z = clf.predict(X_test)\n",
    "    accuracies.append(clf.score(X_test,y_test))\n",
    "    #print(accuracies[i])\n",
    "\n",
    "print(\"%.3f\" %(100*(np.mean(accuracies))),\"%\")\n",
    "print(\"%.3f\" %((np.std(accuracies))))"
   ]
  },
  {
   "cell_type": "markdown",
   "metadata": {},
   "source": [
    "### Rechercher les meilleurs hyperparamètres avec \"GridSearch\""
   ]
  },
  {
   "cell_type": "code",
   "execution_count": null,
   "metadata": {},
   "outputs": [],
   "source": [
    "from sklearn.model_selection import GridSearchCV\n",
    "\n",
    "digits = load_digits()\n",
    "X, y = digits.data, digits.target\n",
    "\n",
    "X_train, X_test, y_train, y_test = train_test_split(X, y, test_size=0.9, random_state=0)\n",
    "\n",
    "\n",
    "pgrid = {\"max_depth\": [1, 5, 10, 20, 25, 30, 35],\n",
    "        \"min_samples_split\": [2, 5, 10, 15, 20]}\n",
    "accuracies.append(clf.score(X_test,y_test))\n",
    "grid_search = GridSearchCV(tree.DecisionTreeClassifier(), param_grid=pgrid, cv=5)\n",
    "grid_search.fit(X_train, y_train)\n",
    "print(\"Meilleur score : \" + str(grid_search.best_estimator_.score(X_test, y_test)))\n",
    "print(\"max_depth: \" + str(grid_search.best_estimator_.max_depth))\n",
    "print(\"min_samples_split: \" + str(grid_search.best_estimator_.min_samples_split))"
   ]
  },
  {
   "cell_type": "markdown",
   "metadata": {},
   "source": [
    "## III. Classification avec lesForêts Aléatoires"
   ]
  },
  {
   "cell_type": "code",
   "execution_count": null,
   "metadata": {
    "scrolled": true
   },
   "outputs": [],
   "source": [
    "from sklearn.ensemble import RandomForestClassifier\n",
    "\n",
    "clf = RandomForestClassifier(n_estimators=200)\n",
    "clf.fit(X_train, y_train)\n",
    "y_pred = clf.predict(X_test)\n",
    "accuracy = clf.score(X_test,y_test)\n",
    "print(\"Accuracy value:\",\"%.2f\" %(100*accuracy),\"%\")"
   ]
  },
  {
   "cell_type": "code",
   "execution_count": null,
   "metadata": {},
   "outputs": [],
   "source": [
    "clf = tree.DecisionTreeClassifier()\n",
    "clf.fit(X_train, y_train)\n",
    "accuracy1 = clf.score(X_test,y_test)\n",
    "print(\"Decision Tree : \"\"%.2f\" %(100*accuracy1),\"%\")\n",
    "\n",
    "clf = RandomForestClassifier(n_estimators=200)\n",
    "clf.fit(X_train, y_train)\n",
    "accuracy2 = clf.score(X_test,y_test)\n",
    "print(\"Random Forest (200 trees) : \"\"%.2f\" %(100*accuracy2),\"%\")"
   ]
  },
  {
   "cell_type": "markdown",
   "metadata": {},
   "source": [
    "### <font color='red'>*Q5 : Comparer la performance de l'arbre de décision à celle de la forêt aléatoire. Expliquer.*</font>\n"
   ]
  },
  {
   "cell_type": "code",
   "execution_count": null,
   "metadata": {},
   "outputs": [],
   "source": [
    "N = 100\n",
    "rf_accuracies = []\n",
    "for i in range(N):\n",
    "    X_train, X_test, y_train, y_test = train_test_split(X, y, test_size=0.9, random_state=0)\n",
    "    clf = RandomForestClassifier(n_estimators=30)\n",
    "    clf.fit(X_train, y_train)\n",
    "    rf_accuracies.append(clf.score(X_test,y_test))\n",
    "\n",
    "print(\"%.3f\" %(100*(np.mean(rf_accuracies))),\"%\")\n",
    "print(\"%.3f\" %((np.std(rf_accuracies))))"
   ]
  },
  {
   "cell_type": "markdown",
   "metadata": {},
   "source": [
    "### <font color='red'>*Q6 : Comparer aux résultats de l'arbre de décision et expliquer en terme de valeur de Accuracy et d'intervalle de confiance.*</font>"
   ]
  },
  {
   "cell_type": "code",
   "execution_count": null,
   "metadata": {},
   "outputs": [],
   "source": [
    "# Plot the graph Accuracy as a function of number of trees\n",
    "N = 50\n",
    "accuracy = []\n",
    "\n",
    "X_train, X_test, y_train, y_test = train_test_split(X, y, test_size=0.3, random_state=0)\n",
    "\n",
    "for i in range(N):\n",
    "    clf = RandomForestClassifier(n_estimators=(i+1)*10)\n",
    "    clf.fit(X_train, y_train)\n",
    "    accuracy.append(clf.score(X_test,y_test))\n",
    "    #print((i+1)*10, accuracy[i])\n",
    "\n",
    "plt.plot([10*(i+1) for i in range(50)], accuracy)\n",
    "plt.ylim((0.8,1))\n",
    "plt.show()"
   ]
  },
  {
   "cell_type": "markdown",
   "metadata": {},
   "source": [
    "### <font color='red'>*Q7 : Analyser la courbe obtenue.*</font>\n",
    "### <font color='red'>*Q8 : Etudier l'impact de la taille de l'ensemble d'apprentissage en analysant le graphe de performance en fonction du nombre d'arbres.*</font>\n"
   ]
  },
  {
   "cell_type": "markdown",
   "metadata": {},
   "source": [
    "## IV. Classification avec Adaboost"
   ]
  },
  {
   "cell_type": "code",
   "execution_count": null,
   "metadata": {},
   "outputs": [],
   "source": [
    "from sklearn.ensemble import AdaBoostClassifier\n",
    "\n",
    "digits = load_digits()\n",
    "X, y = digits.data, digits.target\n",
    "\n",
    "X_train, X_test, y_train, y_test = train_test_split(X, y, test_size=0.9, random_state=0)\n",
    "\n",
    "# AdaBoost basé sur 200 arbres de décision\n",
    "clf = AdaBoostClassifier(base_estimator=tree.DecisionTreeClassifier(max_depth=1), n_estimators=100, learning_rate=2)\n",
    "clf.fit(X_train, y_train)\n",
    "accuracy = clf.score(X_test, y_test)\n",
    "print(\"Accuracy value:\",\"%.2f\" %(100*accuracy),\"%\")"
   ]
  },
  {
   "cell_type": "markdown",
   "metadata": {},
   "source": [
    "### <font color='red'>*Q9 : Comparer Adaboost à la forêt aléatoire et à l'arbre de décision.*</font>"
   ]
  },
  {
   "cell_type": "code",
   "execution_count": null,
   "metadata": {},
   "outputs": [],
   "source": []
  }
 ],
 "metadata": {
  "kernelspec": {
   "display_name": "Python 3",
   "language": "python",
   "name": "python3"
  },
  "language_info": {
   "codemirror_mode": {
    "name": "ipython",
    "version": 3
   },
   "file_extension": ".py",
   "mimetype": "text/x-python",
   "name": "python",
   "nbconvert_exporter": "python",
   "pygments_lexer": "ipython3",
   "version": "3.9.7"
  }
 },
 "nbformat": 4,
 "nbformat_minor": 1
}
